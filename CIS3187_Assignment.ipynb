{
  "nbformat": 4,
  "nbformat_minor": 0,
  "metadata": {
    "colab": {
      "name": "CIS3187_Assignment",
      "provenance": [],
      "collapsed_sections": [
        "R6wTEJZ1Fb4n",
        "6EUZKI9BE6Jt",
        "9QNW69nYEKsB",
        "bEtD9oeBHPJ0",
        "VyQA14YtG32G",
        "V7Z2w60LehO4",
        "gXG7Fs-s1iC2",
        "GwREMbx6Xcqv",
        "r6tHb_km7pWD",
        "RL8KlR0XzDoo"
      ]
    },
    "kernelspec": {
      "name": "python3",
      "display_name": "Python 3"
    },
    "accelerator": "GPU"
  },
  "cells": [
    {
      "cell_type": "markdown",
      "metadata": {
        "id": "FKnHG-P2JATz",
        "colab_type": "text"
      },
      "source": [
        "# Implementing a Multi-layer Perceptron (MLP)\n",
        "---"
      ]
    },
    {
      "cell_type": "markdown",
      "metadata": {
        "id": "PQE8qP4wj59U",
        "colab_type": "text"
      },
      "source": [
        "# Statement of Completion\n",
        "All deliverables and requirements of this assignment have been fulfiled, as per the respective coursework specification document.\n",
        "\n"
      ]
    },
    {
      "cell_type": "markdown",
      "metadata": {
        "id": "ic8Fy7Z4I3bs",
        "colab_type": "text"
      },
      "source": [
        "# Design Decisions"
      ]
    },
    {
      "cell_type": "markdown",
      "metadata": {
        "id": "_TDZRmjzh2KY",
        "colab_type": "text"
      },
      "source": [
        "Given the nature of the task, it was decided to opt to use Python as the language for implementing the MLP. Python is an extremely popular programming language in general, moreso for projects that make use of, or require, Data Science and Machine Learning. Its popularity in such a field draws credit from ML libraries such as Scikit-learn and Keras, as well as other libraries such as Numpy, which was used extensively throughout this assignment. \n",
        "\n",
        "When designing the flow of this project, it was made sure that configurability was given high importance, such that the different parameters of the MLP could be tweaked and adjusted very easily. As a reuslt, a parameter-centric design was adopted. As can be seen in the code section, the MLP class has a dependency class *parameters*, which does as the name implies. After experimenting with multiple configurations, the best approach in this case was found to be using a single hidden layer containing four neurons. \n",
        "\n"
      ]
    },
    {
      "cell_type": "markdown",
      "metadata": {
        "id": "pZuKRcCYIohW",
        "colab_type": "text"
      },
      "source": [
        "# Code"
      ]
    },
    {
      "cell_type": "markdown",
      "metadata": {
        "id": "SRU9fhLHawWJ",
        "colab_type": "text"
      },
      "source": [
        "## Project Imports\n",
        "---\n"
      ]
    },
    {
      "cell_type": "code",
      "metadata": {
        "id": "OCf0VH3RPV9T",
        "colab_type": "code",
        "colab": {}
      },
      "source": [
        "import pandas as pd\n",
        "import numpy as np\n",
        "import matplotlib.pyplot as plt\n",
        "import random"
      ],
      "execution_count": 0,
      "outputs": []
    },
    {
      "cell_type": "markdown",
      "metadata": {
        "id": "RtxRNPSguh_-",
        "colab_type": "text"
      },
      "source": [
        "## MLP Parameters\n",
        "---"
      ]
    },
    {
      "cell_type": "markdown",
      "metadata": {
        "id": "1f20hU83uoEQ",
        "colab_type": "text"
      },
      "source": [
        "The Neural Network contains the following parameters:\n",
        "*   **Number of input neurons**: 5\n",
        "*   **Number of output neurons**: 3\n",
        "*   **Number of hidden layers**: 1\n",
        "*   **Number of hidden neurons**: 4\n",
        "*   **Error threshold**: 0.2\n",
        "*   **Learning rate**: 0.2\n",
        "*   **Maximum number of epochs**: 999\n",
        "*   **Transformation function**: Sigmoid"
      ]
    },
    {
      "cell_type": "markdown",
      "metadata": {
        "id": "J-nH_HyUl_vq",
        "colab_type": "text"
      },
      "source": [
        "#### Declare parameters in a designated class, to be referenced by the implementation:"
      ]
    },
    {
      "cell_type": "code",
      "metadata": {
        "id": "Cgz9DfPwveo6",
        "colab_type": "code",
        "colab": {}
      },
      "source": [
        "class parameters:\n",
        "  NUM_IN_NEURONS = 5\n",
        "  NUM_OUT_NEURONS = 3\n",
        "  NUM_HIDDEN_LAYERS = 1\n",
        "  NUM_HIDDEN_NEURONS = 4\n",
        "  ERROR_THRESHOLD = 0.2\n",
        "  LEARNING_RATE = 0.2\n",
        "  MAX_EPOCHS = 999"
      ],
      "execution_count": 0,
      "outputs": []
    },
    {
      "cell_type": "markdown",
      "metadata": {
        "id": "TYW0GXfD0zeo",
        "colab_type": "text"
      },
      "source": [
        "#### Sigmoid Function"
      ]
    },
    {
      "cell_type": "markdown",
      "metadata": {
        "id": "WTx8XyNOytcL",
        "colab_type": "text"
      },
      "source": [
        "The method will be called *transform()* so as to remain generic and \"hotswappable\" with other transformation functions."
      ]
    },
    {
      "cell_type": "code",
      "metadata": {
        "id": "zGt1VupQy37w",
        "colab_type": "code",
        "colab": {}
      },
      "source": [
        "def transform(x):\n",
        "  #sigmoid\n",
        "  return 1 / (1 + np.exp(-x))  \n",
        "\n",
        "#add to MLP parameters\n",
        "parameters.transform = transform"
      ],
      "execution_count": 0,
      "outputs": []
    },
    {
      "cell_type": "markdown",
      "metadata": {
        "id": "9JuBbdzpiaFQ",
        "colab_type": "text"
      },
      "source": [
        "## Dataset Used\n",
        "---"
      ]
    },
    {
      "cell_type": "markdown",
      "metadata": {
        "id": "1HRQHkktq9c7",
        "colab_type": "text"
      },
      "source": [
        "The MLP reads a 5-bit boolean function and maps it to a 3-bit result. As such, the dataset is made up of 32 rows of a binary *input* mapped to another binary *output* via the function ¬ABC. 26 rows, selected randomly, are to be used for training and the remaining 6 to test the Perceptron.  "
      ]
    },
    {
      "cell_type": "markdown",
      "metadata": {
        "id": "5nYbnwl8pFmR",
        "colab_type": "text"
      },
      "source": [
        "### Data Preparation"
      ]
    },
    {
      "cell_type": "markdown",
      "metadata": {
        "id": "aMvfwpNuuRYg",
        "colab_type": "text"
      },
      "source": [
        "#### Begin by importing data from a .csv file and store in a pandas DataFrame:"
      ]
    },
    {
      "cell_type": "code",
      "metadata": {
        "id": "8OzKGOO4RDZV",
        "colab_type": "code",
        "outputId": "f69ca773-af0e-47f5-e8c1-69b37bab266c",
        "colab": {
          "base_uri": "https://localhost:8080/"
        }
      },
      "source": [
        "data_url = \"https://raw.githubusercontent.com/DeltSystem32/CIS3187-Assignment/master/full_dataset.csv?token=AIW66N4UA46SZD3JMZIWU7C6ERXXE\"\n",
        "df = pd.read_csv(data_url, converters={'input': lambda x: str(x), 'output': lambda x: str(x)})\n",
        "df"
      ],
      "execution_count": 0,
      "outputs": [
        {
          "output_type": "execute_result",
          "data": {
            "text/html": [
              "<div>\n",
              "<style scoped>\n",
              "    .dataframe tbody tr th:only-of-type {\n",
              "        vertical-align: middle;\n",
              "    }\n",
              "\n",
              "    .dataframe tbody tr th {\n",
              "        vertical-align: top;\n",
              "    }\n",
              "\n",
              "    .dataframe thead th {\n",
              "        text-align: right;\n",
              "    }\n",
              "</style>\n",
              "<table border=\"1\" class=\"dataframe\">\n",
              "  <thead>\n",
              "    <tr style=\"text-align: right;\">\n",
              "      <th></th>\n",
              "      <th>Num</th>\n",
              "      <th>input</th>\n",
              "      <th>output</th>\n",
              "    </tr>\n",
              "  </thead>\n",
              "  <tbody>\n",
              "    <tr>\n",
              "      <th>0</th>\n",
              "      <td>1</td>\n",
              "      <td>00000</td>\n",
              "      <td>100</td>\n",
              "    </tr>\n",
              "    <tr>\n",
              "      <th>1</th>\n",
              "      <td>2</td>\n",
              "      <td>00001</td>\n",
              "      <td>100</td>\n",
              "    </tr>\n",
              "    <tr>\n",
              "      <th>2</th>\n",
              "      <td>3</td>\n",
              "      <td>00010</td>\n",
              "      <td>100</td>\n",
              "    </tr>\n",
              "    <tr>\n",
              "      <th>3</th>\n",
              "      <td>4</td>\n",
              "      <td>00011</td>\n",
              "      <td>100</td>\n",
              "    </tr>\n",
              "    <tr>\n",
              "      <th>4</th>\n",
              "      <td>5</td>\n",
              "      <td>00100</td>\n",
              "      <td>101</td>\n",
              "    </tr>\n",
              "    <tr>\n",
              "      <th>5</th>\n",
              "      <td>6</td>\n",
              "      <td>00101</td>\n",
              "      <td>101</td>\n",
              "    </tr>\n",
              "    <tr>\n",
              "      <th>6</th>\n",
              "      <td>7</td>\n",
              "      <td>00110</td>\n",
              "      <td>101</td>\n",
              "    </tr>\n",
              "    <tr>\n",
              "      <th>7</th>\n",
              "      <td>8</td>\n",
              "      <td>00111</td>\n",
              "      <td>101</td>\n",
              "    </tr>\n",
              "    <tr>\n",
              "      <th>8</th>\n",
              "      <td>9</td>\n",
              "      <td>01000</td>\n",
              "      <td>110</td>\n",
              "    </tr>\n",
              "    <tr>\n",
              "      <th>9</th>\n",
              "      <td>10</td>\n",
              "      <td>01001</td>\n",
              "      <td>110</td>\n",
              "    </tr>\n",
              "    <tr>\n",
              "      <th>10</th>\n",
              "      <td>11</td>\n",
              "      <td>01010</td>\n",
              "      <td>110</td>\n",
              "    </tr>\n",
              "    <tr>\n",
              "      <th>11</th>\n",
              "      <td>12</td>\n",
              "      <td>01011</td>\n",
              "      <td>110</td>\n",
              "    </tr>\n",
              "    <tr>\n",
              "      <th>12</th>\n",
              "      <td>13</td>\n",
              "      <td>01100</td>\n",
              "      <td>111</td>\n",
              "    </tr>\n",
              "    <tr>\n",
              "      <th>13</th>\n",
              "      <td>14</td>\n",
              "      <td>01101</td>\n",
              "      <td>111</td>\n",
              "    </tr>\n",
              "    <tr>\n",
              "      <th>14</th>\n",
              "      <td>15</td>\n",
              "      <td>01110</td>\n",
              "      <td>111</td>\n",
              "    </tr>\n",
              "    <tr>\n",
              "      <th>15</th>\n",
              "      <td>16</td>\n",
              "      <td>01111</td>\n",
              "      <td>111</td>\n",
              "    </tr>\n",
              "    <tr>\n",
              "      <th>16</th>\n",
              "      <td>17</td>\n",
              "      <td>10000</td>\n",
              "      <td>000</td>\n",
              "    </tr>\n",
              "    <tr>\n",
              "      <th>17</th>\n",
              "      <td>18</td>\n",
              "      <td>10001</td>\n",
              "      <td>000</td>\n",
              "    </tr>\n",
              "    <tr>\n",
              "      <th>18</th>\n",
              "      <td>19</td>\n",
              "      <td>10010</td>\n",
              "      <td>000</td>\n",
              "    </tr>\n",
              "    <tr>\n",
              "      <th>19</th>\n",
              "      <td>20</td>\n",
              "      <td>10011</td>\n",
              "      <td>000</td>\n",
              "    </tr>\n",
              "    <tr>\n",
              "      <th>20</th>\n",
              "      <td>21</td>\n",
              "      <td>10100</td>\n",
              "      <td>001</td>\n",
              "    </tr>\n",
              "    <tr>\n",
              "      <th>21</th>\n",
              "      <td>22</td>\n",
              "      <td>10101</td>\n",
              "      <td>001</td>\n",
              "    </tr>\n",
              "    <tr>\n",
              "      <th>22</th>\n",
              "      <td>23</td>\n",
              "      <td>10110</td>\n",
              "      <td>001</td>\n",
              "    </tr>\n",
              "    <tr>\n",
              "      <th>23</th>\n",
              "      <td>24</td>\n",
              "      <td>10111</td>\n",
              "      <td>001</td>\n",
              "    </tr>\n",
              "    <tr>\n",
              "      <th>24</th>\n",
              "      <td>25</td>\n",
              "      <td>11000</td>\n",
              "      <td>010</td>\n",
              "    </tr>\n",
              "    <tr>\n",
              "      <th>25</th>\n",
              "      <td>26</td>\n",
              "      <td>11001</td>\n",
              "      <td>010</td>\n",
              "    </tr>\n",
              "    <tr>\n",
              "      <th>26</th>\n",
              "      <td>27</td>\n",
              "      <td>11010</td>\n",
              "      <td>010</td>\n",
              "    </tr>\n",
              "    <tr>\n",
              "      <th>27</th>\n",
              "      <td>28</td>\n",
              "      <td>11011</td>\n",
              "      <td>010</td>\n",
              "    </tr>\n",
              "    <tr>\n",
              "      <th>28</th>\n",
              "      <td>29</td>\n",
              "      <td>11100</td>\n",
              "      <td>011</td>\n",
              "    </tr>\n",
              "    <tr>\n",
              "      <th>29</th>\n",
              "      <td>30</td>\n",
              "      <td>11101</td>\n",
              "      <td>011</td>\n",
              "    </tr>\n",
              "    <tr>\n",
              "      <th>30</th>\n",
              "      <td>31</td>\n",
              "      <td>11110</td>\n",
              "      <td>011</td>\n",
              "    </tr>\n",
              "    <tr>\n",
              "      <th>31</th>\n",
              "      <td>32</td>\n",
              "      <td>11111</td>\n",
              "      <td>011</td>\n",
              "    </tr>\n",
              "  </tbody>\n",
              "</table>\n",
              "</div>"
            ],
            "text/plain": [
              "    Num  input output\n",
              "0     1  00000    100\n",
              "1     2  00001    100\n",
              "2     3  00010    100\n",
              "3     4  00011    100\n",
              "4     5  00100    101\n",
              "5     6  00101    101\n",
              "6     7  00110    101\n",
              "7     8  00111    101\n",
              "8     9  01000    110\n",
              "9    10  01001    110\n",
              "10   11  01010    110\n",
              "11   12  01011    110\n",
              "12   13  01100    111\n",
              "13   14  01101    111\n",
              "14   15  01110    111\n",
              "15   16  01111    111\n",
              "16   17  10000    000\n",
              "17   18  10001    000\n",
              "18   19  10010    000\n",
              "19   20  10011    000\n",
              "20   21  10100    001\n",
              "21   22  10101    001\n",
              "22   23  10110    001\n",
              "23   24  10111    001\n",
              "24   25  11000    010\n",
              "25   26  11001    010\n",
              "26   27  11010    010\n",
              "27   28  11011    010\n",
              "28   29  11100    011\n",
              "29   30  11101    011\n",
              "30   31  11110    011\n",
              "31   32  11111    011"
            ]
          },
          "metadata": {
            "tags": []
          },
          "execution_count": 1030
        }
      ]
    },
    {
      "cell_type": "markdown",
      "metadata": {
        "id": "s8JUvI52pPaX",
        "colab_type": "text"
      },
      "source": [
        "#### Shuffle rows of the dataset:"
      ]
    },
    {
      "cell_type": "code",
      "metadata": {
        "id": "5uR3uX9ISoVU",
        "colab_type": "code",
        "outputId": "bf36ca97-2c03-46ed-f82e-2261cc875888",
        "colab": {
          "base_uri": "https://localhost:8080/"
        }
      },
      "source": [
        "df = df.sample(frac=1).reset_index(drop=True)\n",
        "df.head()"
      ],
      "execution_count": 0,
      "outputs": [
        {
          "output_type": "execute_result",
          "data": {
            "text/html": [
              "<div>\n",
              "<style scoped>\n",
              "    .dataframe tbody tr th:only-of-type {\n",
              "        vertical-align: middle;\n",
              "    }\n",
              "\n",
              "    .dataframe tbody tr th {\n",
              "        vertical-align: top;\n",
              "    }\n",
              "\n",
              "    .dataframe thead th {\n",
              "        text-align: right;\n",
              "    }\n",
              "</style>\n",
              "<table border=\"1\" class=\"dataframe\">\n",
              "  <thead>\n",
              "    <tr style=\"text-align: right;\">\n",
              "      <th></th>\n",
              "      <th>Num</th>\n",
              "      <th>input</th>\n",
              "      <th>output</th>\n",
              "    </tr>\n",
              "  </thead>\n",
              "  <tbody>\n",
              "    <tr>\n",
              "      <th>0</th>\n",
              "      <td>9</td>\n",
              "      <td>01000</td>\n",
              "      <td>110</td>\n",
              "    </tr>\n",
              "    <tr>\n",
              "      <th>1</th>\n",
              "      <td>14</td>\n",
              "      <td>01101</td>\n",
              "      <td>111</td>\n",
              "    </tr>\n",
              "    <tr>\n",
              "      <th>2</th>\n",
              "      <td>29</td>\n",
              "      <td>11100</td>\n",
              "      <td>011</td>\n",
              "    </tr>\n",
              "    <tr>\n",
              "      <th>3</th>\n",
              "      <td>24</td>\n",
              "      <td>10111</td>\n",
              "      <td>001</td>\n",
              "    </tr>\n",
              "    <tr>\n",
              "      <th>4</th>\n",
              "      <td>25</td>\n",
              "      <td>11000</td>\n",
              "      <td>010</td>\n",
              "    </tr>\n",
              "  </tbody>\n",
              "</table>\n",
              "</div>"
            ],
            "text/plain": [
              "   Num  input output\n",
              "0    9  01000    110\n",
              "1   14  01101    111\n",
              "2   29  11100    011\n",
              "3   24  10111    001\n",
              "4   25  11000    010"
            ]
          },
          "metadata": {
            "tags": []
          },
          "execution_count": 1031
        }
      ]
    },
    {
      "cell_type": "markdown",
      "metadata": {
        "id": "yzC24pkPTWWU",
        "colab_type": "text"
      },
      "source": [
        "#### Separate into training and testing datasets."
      ]
    },
    {
      "cell_type": "markdown",
      "metadata": {
        "id": "Xu8Oj0tUrQr9",
        "colab_type": "text"
      },
      "source": [
        "##### Training set:"
      ]
    },
    {
      "cell_type": "code",
      "metadata": {
        "id": "O8o8kWlzdjaT",
        "colab_type": "code",
        "outputId": "2fc8f32c-0fe4-486e-f024-0cbf42ea21fa",
        "colab": {
          "base_uri": "https://localhost:8080/"
        }
      },
      "source": [
        "training_df = df[:26]\n",
        "training_df.head()"
      ],
      "execution_count": 0,
      "outputs": [
        {
          "output_type": "execute_result",
          "data": {
            "text/html": [
              "<div>\n",
              "<style scoped>\n",
              "    .dataframe tbody tr th:only-of-type {\n",
              "        vertical-align: middle;\n",
              "    }\n",
              "\n",
              "    .dataframe tbody tr th {\n",
              "        vertical-align: top;\n",
              "    }\n",
              "\n",
              "    .dataframe thead th {\n",
              "        text-align: right;\n",
              "    }\n",
              "</style>\n",
              "<table border=\"1\" class=\"dataframe\">\n",
              "  <thead>\n",
              "    <tr style=\"text-align: right;\">\n",
              "      <th></th>\n",
              "      <th>Num</th>\n",
              "      <th>input</th>\n",
              "      <th>output</th>\n",
              "    </tr>\n",
              "  </thead>\n",
              "  <tbody>\n",
              "    <tr>\n",
              "      <th>0</th>\n",
              "      <td>9</td>\n",
              "      <td>01000</td>\n",
              "      <td>110</td>\n",
              "    </tr>\n",
              "    <tr>\n",
              "      <th>1</th>\n",
              "      <td>14</td>\n",
              "      <td>01101</td>\n",
              "      <td>111</td>\n",
              "    </tr>\n",
              "    <tr>\n",
              "      <th>2</th>\n",
              "      <td>29</td>\n",
              "      <td>11100</td>\n",
              "      <td>011</td>\n",
              "    </tr>\n",
              "    <tr>\n",
              "      <th>3</th>\n",
              "      <td>24</td>\n",
              "      <td>10111</td>\n",
              "      <td>001</td>\n",
              "    </tr>\n",
              "    <tr>\n",
              "      <th>4</th>\n",
              "      <td>25</td>\n",
              "      <td>11000</td>\n",
              "      <td>010</td>\n",
              "    </tr>\n",
              "  </tbody>\n",
              "</table>\n",
              "</div>"
            ],
            "text/plain": [
              "   Num  input output\n",
              "0    9  01000    110\n",
              "1   14  01101    111\n",
              "2   29  11100    011\n",
              "3   24  10111    001\n",
              "4   25  11000    010"
            ]
          },
          "metadata": {
            "tags": []
          },
          "execution_count": 1032
        }
      ]
    },
    {
      "cell_type": "markdown",
      "metadata": {
        "id": "lGnvq_MSqVgB",
        "colab_type": "text"
      },
      "source": [
        "##### Testing set:"
      ]
    },
    {
      "cell_type": "code",
      "metadata": {
        "id": "17jSKbZGdTrn",
        "colab_type": "code",
        "outputId": "b5342f8b-167b-4e8f-c581-9c43513e354b",
        "colab": {
          "base_uri": "https://localhost:8080/"
        }
      },
      "source": [
        "testing_df = df[26:]\n",
        "testing_df.head()"
      ],
      "execution_count": 0,
      "outputs": [
        {
          "output_type": "execute_result",
          "data": {
            "text/html": [
              "<div>\n",
              "<style scoped>\n",
              "    .dataframe tbody tr th:only-of-type {\n",
              "        vertical-align: middle;\n",
              "    }\n",
              "\n",
              "    .dataframe tbody tr th {\n",
              "        vertical-align: top;\n",
              "    }\n",
              "\n",
              "    .dataframe thead th {\n",
              "        text-align: right;\n",
              "    }\n",
              "</style>\n",
              "<table border=\"1\" class=\"dataframe\">\n",
              "  <thead>\n",
              "    <tr style=\"text-align: right;\">\n",
              "      <th></th>\n",
              "      <th>Num</th>\n",
              "      <th>input</th>\n",
              "      <th>output</th>\n",
              "    </tr>\n",
              "  </thead>\n",
              "  <tbody>\n",
              "    <tr>\n",
              "      <th>26</th>\n",
              "      <td>4</td>\n",
              "      <td>00011</td>\n",
              "      <td>100</td>\n",
              "    </tr>\n",
              "    <tr>\n",
              "      <th>27</th>\n",
              "      <td>17</td>\n",
              "      <td>10000</td>\n",
              "      <td>000</td>\n",
              "    </tr>\n",
              "    <tr>\n",
              "      <th>28</th>\n",
              "      <td>27</td>\n",
              "      <td>11010</td>\n",
              "      <td>010</td>\n",
              "    </tr>\n",
              "    <tr>\n",
              "      <th>29</th>\n",
              "      <td>5</td>\n",
              "      <td>00100</td>\n",
              "      <td>101</td>\n",
              "    </tr>\n",
              "    <tr>\n",
              "      <th>30</th>\n",
              "      <td>2</td>\n",
              "      <td>00001</td>\n",
              "      <td>100</td>\n",
              "    </tr>\n",
              "  </tbody>\n",
              "</table>\n",
              "</div>"
            ],
            "text/plain": [
              "    Num  input output\n",
              "26    4  00011    100\n",
              "27   17  10000    000\n",
              "28   27  11010    010\n",
              "29    5  00100    101\n",
              "30    2  00001    100"
            ]
          },
          "metadata": {
            "tags": []
          },
          "execution_count": 1033
        }
      ]
    },
    {
      "cell_type": "markdown",
      "metadata": {
        "id": "f7JpW4CyqpTa",
        "colab_type": "text"
      },
      "source": [
        "#### Size of  datasets:"
      ]
    },
    {
      "cell_type": "code",
      "metadata": {
        "id": "8IfZRHKuqBOW",
        "colab_type": "code",
        "outputId": "23a5f13b-a1ab-4a0c-ac24-7f5d59556738",
        "colab": {
          "base_uri": "https://localhost:8080/"
        }
      },
      "source": [
        "print(\"Size of training set: \" + str(len(training_df)))\n",
        "print(\"Size of testing set: \"+ str(len(testing_df)))"
      ],
      "execution_count": 0,
      "outputs": [
        {
          "output_type": "stream",
          "text": [
            "Size of training set: 26\n",
            "Size of testing set: 6\n"
          ],
          "name": "stdout"
        }
      ]
    },
    {
      "cell_type": "markdown",
      "metadata": {
        "id": "wvTzzHBv0oNE",
        "colab_type": "text"
      },
      "source": [
        "## Code Implementation\n",
        "---"
      ]
    },
    {
      "cell_type": "markdown",
      "metadata": {
        "id": "R6wTEJZ1Fb4n",
        "colab_type": "text"
      },
      "source": [
        "##### Begin with the MLP's initialisation function:"
      ]
    },
    {
      "cell_type": "code",
      "metadata": {
        "id": "u4nuccLrD4Lo",
        "colab_type": "code",
        "colab": {}
      },
      "source": [
        "class MLP:\n",
        "  wH = None #hidden layer weights\n",
        "  wO = None #output layer weights\n",
        "  epochs_list = None\n",
        "    \n",
        "  def __init__(self):\n",
        "    global wH, wO\n",
        "    \n",
        "    wH = self.generate_weights(parameters.NUM_IN_NEURONS,parameters.NUM_HIDDEN_NEURONS)\n",
        "    wO = self.generate_weights(parameters.NUM_HIDDEN_NEURONS,parameters.NUM_OUT_NEURONS)\n",
        "\n",
        "    print(\"Weights randomly generated.\")\n",
        "    print(\"Hidden weights:\\n\", wH)\n",
        "    print(\"Output weights:\\n\", wO)      "
      ],
      "execution_count": 0,
      "outputs": []
    },
    {
      "cell_type": "markdown",
      "metadata": {
        "id": "6EUZKI9BE6Jt",
        "colab_type": "text"
      },
      "source": [
        "##### To initialise the weights, we will need to do so randomly from -1 to 1. For this, a function is required to create a matrix of weights of any given size:"
      ]
    },
    {
      "cell_type": "code",
      "metadata": {
        "id": "s63gI84MECim",
        "colab_type": "code",
        "colab": {}
      },
      "source": [
        "def generate_weights(self, columns, rows):\n",
        "  return np.random.uniform(low=-1,high=1, size=(columns,rows))\n",
        "\n",
        "#add to MLP\n",
        "MLP.generate_weights = generate_weights"
      ],
      "execution_count": 0,
      "outputs": []
    },
    {
      "cell_type": "markdown",
      "metadata": {
        "id": "cXbEHQGIu48N",
        "colab_type": "text"
      },
      "source": [
        "##### Define the training function that accepts a dataframe and carries out forward and backward propagation."
      ]
    },
    {
      "cell_type": "code",
      "metadata": {
        "id": "13749n3FvDm-",
        "colab_type": "code",
        "colab": {}
      },
      "source": [
        "def train(self, input_df):\n",
        "    global wH, wO, epochs_list\n",
        "    epochs_list = []\n",
        "\n",
        "    epoch = 1\n",
        "    print(\"------------------------------------------\")\n",
        "    while epoch <= parameters.MAX_EPOCHS:\n",
        "      num_bad_facts = 0\n",
        "      print(\"Epoch \", epoch)\n",
        "      \n",
        "      for index, fact in input_df.iterrows():\n",
        "        # obtain output and output columns from dataframe\n",
        "        input = np.array(list(fact[\"input\"]),dtype=np.float64)\n",
        "        target_output = np.array(list(fact[\"output\"]),dtype=np.float64) \n",
        "\n",
        "        # feedforward\n",
        "        result = self.feedforward(input, target_output, wH, wO)\n",
        "        output, outH = result[0], result[1]\n",
        "\n",
        "        # calculate error\n",
        "        error = self.get_error_count(target_output, output)\n",
        "\n",
        "        # check error - if less than threshold, perform backpropagation\n",
        "        good_fact = self.check_fact(error)\n",
        "        if not good_fact:\n",
        "          num_bad_facts += 1\n",
        "          print(\"False\")\n",
        "          result = self.error_backpropagation(parameters.LEARNING_RATE, output, outH, target_output, input, wH, wO)\n",
        "        else:\n",
        "          print(\"True\")\n",
        "\n",
        "      epochs_list.append([epoch, ((num_bad_facts / len(input_df)) * 100)])\n",
        "      epoch += 1\n",
        "      print(\"------------------------------------------\")\n",
        "\n",
        "      if num_bad_facts == 0:\n",
        "        print(\"Converged!!!!!!!!!!!!\")\n",
        "        break\n",
        "\n",
        "MLP.train = train"
      ],
      "execution_count": 0,
      "outputs": []
    },
    {
      "cell_type": "markdown",
      "metadata": {
        "id": "utvXRbUXAf4E",
        "colab_type": "text"
      },
      "source": [
        "##### Define the test() function that will be used to classify data from a given dataframe."
      ]
    },
    {
      "cell_type": "code",
      "metadata": {
        "id": "gBrb_3O2Akoy",
        "colab_type": "code",
        "colab": {}
      },
      "source": [
        "def test(self, input_df):\n",
        "    good_facts = 0\n",
        "    for index, fact in input_df.iterrows():\n",
        "      # get input and output from dataframe\n",
        "      input = np.array(list(fact[\"input\"]),dtype=np.float64)\n",
        "      target_output = np.array(list(fact[\"output\"]),dtype=np.float64)\n",
        "\n",
        "      # feedforward\n",
        "      result = self.feedforward(input, target_output, wH, wO) \n",
        "      output = result[0]\n",
        "      \n",
        "      # calculate error\n",
        "      error = self.get_error_count(target_output, output)\n",
        "      print(input, \"---------->\", output)\n",
        "\n",
        "      # check error\n",
        "      is_good_fact = self.check_fact(error)\n",
        "      if is_good_fact:\n",
        "        good_facts += 1\n",
        "\n",
        "      print(bool(is_good_fact), \"! (Target: \",target_output,\")\")\n",
        "\n",
        "    print(\"\\nAccuracy: \", self.calculate_accuracy(len(input_df), good_facts), \"%\")\n",
        "\n",
        "MLP.test = test"
      ],
      "execution_count": 0,
      "outputs": []
    },
    {
      "cell_type": "markdown",
      "metadata": {
        "id": "Sz8f0MXABEHL",
        "colab_type": "text"
      },
      "source": [
        "##### Function for obtaining the accuracy rating of good facts over total facts:"
      ]
    },
    {
      "cell_type": "code",
      "metadata": {
        "id": "213a8Q_9BDT6",
        "colab_type": "code",
        "colab": {}
      },
      "source": [
        "def calculate_accuracy(self, input_size, good_facts):\n",
        "  return (good_facts / input_size) * 100\n",
        "\n",
        "MLP.calculate_accuracy = calculate_accuracy"
      ],
      "execution_count": 0,
      "outputs": []
    },
    {
      "cell_type": "markdown",
      "metadata": {
        "id": "9QNW69nYEKsB",
        "colab_type": "text"
      },
      "source": [
        "### Feed-forward"
      ]
    },
    {
      "cell_type": "markdown",
      "metadata": {
        "id": "bEtD9oeBHPJ0",
        "colab_type": "text"
      },
      "source": [
        "##### Function for applying the transformation function to all cells of a given array:"
      ]
    },
    {
      "cell_type": "code",
      "metadata": {
        "id": "MxwIzP7tFkzP",
        "colab_type": "code",
        "colab": {}
      },
      "source": [
        "def transform_array(self, net):\n",
        "  return [parameters.transform(j) for j in net]\n",
        "\n",
        "# add to MLP\n",
        "MLP.transform_array = transform_array"
      ],
      "execution_count": 0,
      "outputs": []
    },
    {
      "cell_type": "markdown",
      "metadata": {
        "id": "VyQA14YtG32G",
        "colab_type": "text"
      },
      "source": [
        "##### Loop through hidden layer and output layer, transforming input into MLP output. Matrix multiplication is performed using numpy's dot function:"
      ]
    },
    {
      "cell_type": "code",
      "metadata": {
        "id": "8A-L6yku0p9d",
        "colab_type": "code",
        "colab": {}
      },
      "source": [
        "def feedforward(self, input, target, wH, wO):\n",
        "  # Hidden layer\n",
        "  netH = np.dot(input, wH).astype(np.float64) \n",
        "  outH = parameters.transform(netH) \n",
        "\n",
        "  # Output layer\n",
        "  netO = np.dot(outH, wO).astype(np.float64) \n",
        "  outO = parameters.transform(netO) \n",
        "\n",
        "  return outO, outH\n",
        "\n",
        "MLP.feedforward = feedforward"
      ],
      "execution_count": 0,
      "outputs": []
    },
    {
      "cell_type": "markdown",
      "metadata": {
        "id": "V7Z2w60LehO4",
        "colab_type": "text"
      },
      "source": [
        "### Fact Checking"
      ]
    },
    {
      "cell_type": "markdown",
      "metadata": {
        "id": "drrJQ5JQxOiI",
        "colab_type": "text"
      },
      "source": [
        "##### For each output of the MLP, compare with the expected output and produce the error difference: "
      ]
    },
    {
      "cell_type": "code",
      "metadata": {
        "id": "m3JifR0EbJYG",
        "colab_type": "code",
        "colab": {}
      },
      "source": [
        "def get_error_count(self, target, outO):\n",
        "  errorCount = np.array(len(outO),dtype=np.float64)\n",
        "  errorCount = np.absolute(target - outO)\n",
        "  return errorCount\n",
        "\n",
        "MLP.get_error_count = get_error_count"
      ],
      "execution_count": 0,
      "outputs": []
    },
    {
      "cell_type": "markdown",
      "metadata": {
        "id": "oVT92Svs1Rzn",
        "colab_type": "text"
      },
      "source": [
        "##### Given an array of errors, compare to error threshold and determine whether fact is good or bad:"
      ]
    },
    {
      "cell_type": "code",
      "metadata": {
        "id": "xne2xlUbeslB",
        "colab_type": "code",
        "colab": {}
      },
      "source": [
        "def check_fact(self, errorCount):\n",
        "  threshold = parameters.ERROR_THRESHOLD\n",
        "  for error in errorCount: \n",
        "    if error > threshold: \n",
        "      return False \n",
        "  return True\n",
        "\n",
        "MLP.check_fact = check_fact"
      ],
      "execution_count": 0,
      "outputs": []
    },
    {
      "cell_type": "markdown",
      "metadata": {
        "id": "gXG7Fs-s1iC2",
        "colab_type": "text"
      },
      "source": [
        "### Error Backpropagation"
      ]
    },
    {
      "cell_type": "markdown",
      "metadata": {
        "id": "U92HKjg8XJT_",
        "colab_type": "text"
      },
      "source": [
        "##### Revise the weights of the MLP, beginning from the output layer. "
      ]
    },
    {
      "cell_type": "code",
      "metadata": {
        "id": "9Q362lwt1hh2",
        "colab_type": "code",
        "colab": {}
      },
      "source": [
        "def error_backpropagation(self, learning_rate, outO, outH, target, input, wH, wO):\n",
        "  #output layer\n",
        "  delta_out = self.calculate_out_delta(outO, target)\n",
        "  wO = self.calculate_out_weights(learning_rate, delta_out, outH, wO)\n",
        "\n",
        "  #hidden layer \n",
        "  delta_hidden = self.calculate_delta_hidden(delta_out, outH, wO)\n",
        "  wH = self.calculate_hidden_weights(learning_rate, delta_hidden, input, wH)\n",
        "\n",
        "  return wO, wH\n",
        "\n",
        "MLP.error_backpropagation = error_backpropagation"
      ],
      "execution_count": 0,
      "outputs": []
    },
    {
      "cell_type": "markdown",
      "metadata": {
        "id": "GwREMbx6Xcqv",
        "colab_type": "text"
      },
      "source": [
        "#### Output layer weights:"
      ]
    },
    {
      "cell_type": "markdown",
      "metadata": {
        "id": "ckQMif3H3C02",
        "colab_type": "text"
      },
      "source": [
        "##### Determine the output delta:"
      ]
    },
    {
      "cell_type": "code",
      "metadata": {
        "id": "RMCiOsJM90-n",
        "colab_type": "code",
        "colab": {}
      },
      "source": [
        "def calculate_out_delta(self, outO, target): \n",
        "  deltas = np.empty(len(outO), dtype=np.float64)\n",
        "  for i in range(len(outO)):\n",
        "      deltas[i] = outO[i] * (1 - outO[i]) * (target[i] - outO[i])\n",
        "\n",
        "  return deltas\n",
        "\n",
        "MLP.calculate_out_delta = calculate_out_delta"
      ],
      "execution_count": 0,
      "outputs": []
    },
    {
      "cell_type": "markdown",
      "metadata": {
        "id": "qUOKpSBx38Aj",
        "colab_type": "text"
      },
      "source": [
        "##### Determine the new output weights: "
      ]
    },
    {
      "cell_type": "code",
      "metadata": {
        "id": "tLoar1p-33Y2",
        "colab_type": "code",
        "colab": {}
      },
      "source": [
        "def calculate_out_weights(self, learning_rate, delta_out, outH, wO): \n",
        "  for i in range(len(outH)):\n",
        "      for j in range(len(delta_out)):\n",
        "          wO[i][j] += learning_rate * delta_out[j] * outH[i]\n",
        "\n",
        "  return wO\n",
        "\n",
        "MLP.calculate_out_weights = calculate_out_weights"
      ],
      "execution_count": 0,
      "outputs": []
    },
    {
      "cell_type": "markdown",
      "metadata": {
        "id": "r6tHb_km7pWD",
        "colab_type": "text"
      },
      "source": [
        "#### Hidden layer weights:"
      ]
    },
    {
      "cell_type": "markdown",
      "metadata": {
        "id": "p3YQPj9xXkC4",
        "colab_type": "text"
      },
      "source": [
        "Do the same for the weights of the hidden layer. This follows a more complex process."
      ]
    },
    {
      "cell_type": "markdown",
      "metadata": {
        "id": "uxBiGzdX7uHu",
        "colab_type": "text"
      },
      "source": [
        "##### Determine the hidden layer delta:"
      ]
    },
    {
      "cell_type": "code",
      "metadata": {
        "id": "UZyu_5WGOHuQ",
        "colab_type": "code",
        "colab": {}
      },
      "source": [
        "def calculate_delta_hidden(self, deltaO, outH, wO): \n",
        "  deltas = np.empty(len(outH), dtype=np.float64)\n",
        "  for i in range(len(outH)):\n",
        "    deltas[i] = (outH[i] * (1 - outH[i]) * (self.calculate_delta_summation(deltaO, i, wO)))\n",
        "    \n",
        "  return deltas\n",
        "\n",
        "MLP.calculate_delta_hidden = calculate_delta_hidden"
      ],
      "execution_count": 0,
      "outputs": []
    },
    {
      "cell_type": "code",
      "metadata": {
        "id": "iu_676FI82Zz",
        "colab_type": "code",
        "colab": {}
      },
      "source": [
        " def calculate_delta_summation(self, output_delta, index, wO): \n",
        "  sum = 0\n",
        "  for i in range(len(output_delta)):\n",
        "    sum += (output_delta[i] * wO[index, i])\n",
        "\n",
        "  return sum\n",
        "\n",
        "MLP.calculate_delta_summation = calculate_delta_summation"
      ],
      "execution_count": 0,
      "outputs": []
    },
    {
      "cell_type": "markdown",
      "metadata": {
        "id": "OB1LENTq9qrH",
        "colab_type": "text"
      },
      "source": [
        "##### Determine the hidden layer weights:"
      ]
    },
    {
      "cell_type": "code",
      "metadata": {
        "id": "8ghpCkeC9sMc",
        "colab_type": "code",
        "colab": {}
      },
      "source": [
        "def calculate_hidden_weights(self, learning_rate, delta_hidden, input, wH): \n",
        "  for i in range(len(input)):\n",
        "      for j in range(len(delta_hidden)):\n",
        "          wH[i][j] += learning_rate * delta_hidden[j] * input[i]\n",
        "          \n",
        "  return wH\n",
        "\n",
        "MLP.calculate_hidden_weights = calculate_hidden_weights"
      ],
      "execution_count": 0,
      "outputs": []
    },
    {
      "cell_type": "markdown",
      "metadata": {
        "id": "RL8KlR0XzDoo",
        "colab_type": "text"
      },
      "source": [
        "### Graph Plotting"
      ]
    },
    {
      "cell_type": "code",
      "metadata": {
        "id": "JJ9Vrla5zHhS",
        "colab_type": "code",
        "colab": {}
      },
      "source": [
        "def plot(self):\n",
        "  epochs = np.array(epochs_list)\n",
        "\n",
        "  for e in epochs_list:\n",
        "    np.append(epochs, e)\n",
        "  \n",
        "  plt.plot(epochs[:,0], epochs[:,1])\n",
        "  plt.xlabel('Epochs')\n",
        "  plt.ylabel('% of Bad Facts')\n",
        "\n",
        "  plt.title(\"Bad Facts - Epochs Graph\")\n",
        "  plt.show()\n",
        "\n",
        "MLP.plot = plot"
      ],
      "execution_count": 0,
      "outputs": []
    },
    {
      "cell_type": "markdown",
      "metadata": {
        "id": "K8FHWi-vZYWU",
        "colab_type": "text"
      },
      "source": [
        "### Runner"
      ]
    },
    {
      "cell_type": "markdown",
      "metadata": {
        "id": "O39jR5lgCKdD",
        "colab_type": "text"
      },
      "source": [
        "Initialise the Multi-layer Perceptron."
      ]
    },
    {
      "cell_type": "code",
      "metadata": {
        "id": "4e1JtTJBJr5P",
        "colab_type": "code",
        "outputId": "9acde7ac-cef9-4adc-ebbd-036aa6582f99",
        "colab": {
          "base_uri": "https://localhost:8080/",
          "height": 221
        }
      },
      "source": [
        "mlp = MLP()"
      ],
      "execution_count": 0,
      "outputs": [
        {
          "output_type": "stream",
          "text": [
            "Weights randomly generated.\n",
            "Hidden weights:\n",
            " [[ 0.04717368 -0.53433378  0.31735899  0.42576789]\n",
            " [ 0.57257698  0.35640975 -0.04705558 -0.33912611]\n",
            " [ 0.90521653 -0.79030091  0.21940968  0.18516887]\n",
            " [-0.59227812  0.53354125  0.8453087   0.5689175 ]\n",
            " [ 0.41461757 -0.02557916 -0.30508005  0.2162029 ]]\n",
            "Output weights:\n",
            " [[ 0.99103934  0.54561191 -0.00874823]\n",
            " [ 0.7857513   0.52415151  0.95274097]\n",
            " [ 0.50259516 -0.2583689  -0.45680376]\n",
            " [ 0.14848714 -0.46852693  0.00683001]]\n"
          ],
          "name": "stdout"
        }
      ]
    },
    {
      "cell_type": "markdown",
      "metadata": {
        "id": "HoZuiQltCNXN",
        "colab_type": "text"
      },
      "source": [
        "Train the NN with the training dataset."
      ]
    },
    {
      "cell_type": "code",
      "metadata": {
        "id": "QMx4VCQ0JOfz",
        "colab_type": "code",
        "colab": {}
      },
      "source": [
        "mlp.train(training_df)"
      ],
      "execution_count": 0,
      "outputs": []
    },
    {
      "cell_type": "markdown",
      "metadata": {
        "id": "IgE0gKwUCzeb",
        "colab_type": "text"
      },
      "source": [
        "Test the perceptron using the testing dataset."
      ]
    },
    {
      "cell_type": "markdown",
      "metadata": {
        "id": "hBv4Z3bVhMl_",
        "colab_type": "text"
      },
      "source": [
        "## Facts over Epochs Graph"
      ]
    },
    {
      "cell_type": "markdown",
      "metadata": {
        "id": "HOrf4hf9CSyr",
        "colab_type": "text"
      },
      "source": [
        "As can be seen from the below graph, the result is non-monotonic, and clearly illustrates the MLP's learning progress across all epochs. "
      ]
    },
    {
      "cell_type": "code",
      "metadata": {
        "id": "zPgerHRtQ7o_",
        "colab_type": "code",
        "outputId": "7bfcd480-b28d-4fb3-9b7d-6f2154d466b3",
        "colab": {
          "base_uri": "https://localhost:8080/",
          "height": 295
        }
      },
      "source": [
        "mlp.plot()"
      ],
      "execution_count": 0,
      "outputs": [
        {
          "output_type": "display_data",
          "data": {
            "image/png": "[encoded data removed]",
            "text/plain": [
              "<Figure size 432x288 with 1 Axes>"
            ]
          },
          "metadata": {
            "tags": []
          }
        }
      ]
    },
    {
      "cell_type": "markdown",
      "metadata": {
        "id": "Y1ceRLc0oWMc",
        "colab_type": "text"
      },
      "source": [
        "## Testing"
      ]
    },
    {
      "cell_type": "code",
      "metadata": {
        "id": "i4h-7KxtlOR-",
        "colab_type": "code",
        "outputId": "0f4ab2a9-6838-4d6a-8c24-cdb0e8d68dc6",
        "colab": {
          "base_uri": "https://localhost:8080/",
          "height": 255
        }
      },
      "source": [
        "mlp.test(testing_df)"
      ],
      "execution_count": 0,
      "outputs": [
        {
          "output_type": "stream",
          "text": [
            "[0. 0. 0. 1. 1.] ----------> [0.92851383 0.09595286 0.14115295]\n",
            "True ! (Target:  [1. 0. 0.] )\n",
            "[1. 0. 0. 0. 0.] ----------> [0.14452199 0.09745992 0.15529479]\n",
            "True ! (Target:  [0. 0. 0.] )\n",
            "[1. 1. 0. 1. 0.] ----------> [0.18865015 0.87859423 0.12530087]\n",
            "True ! (Target:  [0. 1. 0.] )\n",
            "[0. 0. 1. 0. 0.] ----------> [0.72443813 0.18081394 0.88784415]\n",
            "False ! (Target:  [1. 0. 1.] )\n",
            "[0. 0. 0. 0. 1.] ----------> [0.87441798 0.14913198 0.17489075]\n",
            "True ! (Target:  [1. 0. 0.] )\n",
            "[0. 1. 0. 1. 0.] ----------> [0.91935698 0.87818715 0.17011708]\n",
            "True ! (Target:  [1. 1. 0.] )\n",
            "\n",
            "Accuracy:  83.33333333333334 %\n"
          ],
          "name": "stdout"
        }
      ]
    },
    {
      "cell_type": "markdown",
      "metadata": {
        "id": "JOyPc5sDrKKJ",
        "colab_type": "text"
      },
      "source": [
        "As can be seen from the above code snippet, the test produced a classification accuracy of 83.3%. The testing dataset (which contains six values) was used."
      ]
    },
    {
      "cell_type": "markdown",
      "metadata": {
        "id": "R_wQB_lomTTS",
        "colab_type": "text"
      },
      "source": [
        "## Issues Encountered"
      ]
    },
    {
      "cell_type": "markdown",
      "metadata": {
        "id": "QHwlBkrQmaax",
        "colab_type": "text"
      },
      "source": [
        "The bulk of issues stemmed from the alignment of indices of the several Numpy arrays and matrices which were used throughout the project, which were greatly impacting the MLP's performance. There were also some issues involving improper indentation of code instructions that, in Python, function differently if misaligned. Another issue which took a substantial amount of time arose from the error-checking component, in which multiplication was returning skewed results. This was determined to have been caused by losses in precision due to the conversion of certain array elements. "
      ]
    }
  ]
}