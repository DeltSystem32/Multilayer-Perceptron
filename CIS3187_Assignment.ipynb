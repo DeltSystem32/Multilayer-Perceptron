{
  "nbformat": 4,
  "nbformat_minor": 0,
  "metadata": {
    "colab": {
      "name": "CIS3187_Assignment",
      "provenance": [],
      "collapsed_sections": [],
      "include_colab_link": true
    },
    "kernelspec": {
      "name": "python3",
      "display_name": "Python 3"
    }
  },
  "cells": [
    {
      "cell_type": "markdown",
      "metadata": {
        "id": "view-in-github",
        "colab_type": "text"
      },
      "source": [
        "<a href=\"https://colab.research.google.com/github/DeltSystem32/CIS3187-Assignment/blob/master/CIS3187_Assignment.ipynb\" target=\"_parent\"><img src=\"https://colab.research.google.com/assets/colab-badge.svg\" alt=\"Open In Colab\"/></a>"
      ]
    },
    {
      "cell_type": "markdown",
      "metadata": {
        "id": "x2t0xy0Sdj30",
        "colab_type": "text"
      },
      "source": [
        "# Business Intelligence Coursework: Neural Network\n",
        "## By Daniel Anthony Cilia 315499(M)\n",
        "---\n",
        "\n"
      ]
    },
    {
      "cell_type": "markdown",
      "metadata": {
        "id": "SRU9fhLHawWJ",
        "colab_type": "text"
      },
      "source": [
        "## Project Imports\n",
        "\n"
      ]
    },
    {
      "cell_type": "code",
      "metadata": {
        "id": "OCf0VH3RPV9T",
        "colab_type": "code",
        "colab": {}
      },
      "source": [
        "import pandas as pd"
      ],
      "execution_count": 0,
      "outputs": []
    },
    {
      "cell_type": "markdown",
      "metadata": {
        "id": "9JuBbdzpiaFQ",
        "colab_type": "text"
      },
      "source": [
        "## Read and parse data"
      ]
    },
    {
      "cell_type": "markdown",
      "metadata": {
        "id": "Bz7yE2K-qt9_",
        "colab_type": "text"
      },
      "source": [
        "Obtain testing and traning data from two CSV files in the project repository on Github."
      ]
    },
    {
      "cell_type": "markdown",
      "metadata": {
        "id": "1HRQHkktq9c7",
        "colab_type": "text"
      },
      "source": [
        "The data consists of 5-bit numbers being mapped to 3-bit via the Boolean function ¬ABC."
      ]
    },
    {
      "cell_type": "markdown",
      "metadata": {
        "id": "aMvfwpNuuRYg",
        "colab_type": "text"
      },
      "source": [
        "Converters are used to map values to string upon import in order to retain all leading zeros."
      ]
    },
    {
      "cell_type": "markdown",
      "metadata": {
        "id": "Wu3s5zk_qNb0",
        "colab_type": "text"
      },
      "source": [
        "#### Training set:"
      ]
    },
    {
      "cell_type": "code",
      "metadata": {
        "id": "O8o8kWlzdjaT",
        "colab_type": "code",
        "outputId": "87a8f784-0cc4-43c2-953d-6c7ebcad150f",
        "colab": {
          "base_uri": "https://localhost:8080/",
          "height": 855
        }
      },
      "source": [
        "training_data_url = \"https://raw.githubusercontent.com/DeltSystem32/CIS3187-Assignment/master/training_data.csv?token=AIW66N5TCWXKRMEIPQPTPES6ENAXA\"\n",
        "training_df = pd.read_csv(training_data_url, converters={'input': lambda x: str(x), 'output': lambda x: str(x)})\n",
        "training_df"
      ],
      "execution_count": 234,
      "outputs": [
        {
          "output_type": "execute_result",
          "data": {
            "text/html": [
              "<div>\n",
              "<style scoped>\n",
              "    .dataframe tbody tr th:only-of-type {\n",
              "        vertical-align: middle;\n",
              "    }\n",
              "\n",
              "    .dataframe tbody tr th {\n",
              "        vertical-align: top;\n",
              "    }\n",
              "\n",
              "    .dataframe thead th {\n",
              "        text-align: right;\n",
              "    }\n",
              "</style>\n",
              "<table border=\"1\" class=\"dataframe\">\n",
              "  <thead>\n",
              "    <tr style=\"text-align: right;\">\n",
              "      <th></th>\n",
              "      <th>Num</th>\n",
              "      <th>input</th>\n",
              "      <th>output</th>\n",
              "    </tr>\n",
              "  </thead>\n",
              "  <tbody>\n",
              "    <tr>\n",
              "      <th>0</th>\n",
              "      <td>1</td>\n",
              "      <td>00000</td>\n",
              "      <td>100</td>\n",
              "    </tr>\n",
              "    <tr>\n",
              "      <th>1</th>\n",
              "      <td>3</td>\n",
              "      <td>00010</td>\n",
              "      <td>100</td>\n",
              "    </tr>\n",
              "    <tr>\n",
              "      <th>2</th>\n",
              "      <td>4</td>\n",
              "      <td>00011</td>\n",
              "      <td>100</td>\n",
              "    </tr>\n",
              "    <tr>\n",
              "      <th>3</th>\n",
              "      <td>5</td>\n",
              "      <td>00100</td>\n",
              "      <td>101</td>\n",
              "    </tr>\n",
              "    <tr>\n",
              "      <th>4</th>\n",
              "      <td>7</td>\n",
              "      <td>00110</td>\n",
              "      <td>101</td>\n",
              "    </tr>\n",
              "    <tr>\n",
              "      <th>5</th>\n",
              "      <td>8</td>\n",
              "      <td>00111</td>\n",
              "      <td>101</td>\n",
              "    </tr>\n",
              "    <tr>\n",
              "      <th>6</th>\n",
              "      <td>9</td>\n",
              "      <td>01000</td>\n",
              "      <td>110</td>\n",
              "    </tr>\n",
              "    <tr>\n",
              "      <th>7</th>\n",
              "      <td>10</td>\n",
              "      <td>01001</td>\n",
              "      <td>110</td>\n",
              "    </tr>\n",
              "    <tr>\n",
              "      <th>8</th>\n",
              "      <td>11</td>\n",
              "      <td>01010</td>\n",
              "      <td>110</td>\n",
              "    </tr>\n",
              "    <tr>\n",
              "      <th>9</th>\n",
              "      <td>12</td>\n",
              "      <td>01011</td>\n",
              "      <td>110</td>\n",
              "    </tr>\n",
              "    <tr>\n",
              "      <th>10</th>\n",
              "      <td>14</td>\n",
              "      <td>01101</td>\n",
              "      <td>111</td>\n",
              "    </tr>\n",
              "    <tr>\n",
              "      <th>11</th>\n",
              "      <td>15</td>\n",
              "      <td>01110</td>\n",
              "      <td>111</td>\n",
              "    </tr>\n",
              "    <tr>\n",
              "      <th>12</th>\n",
              "      <td>17</td>\n",
              "      <td>10000</td>\n",
              "      <td>000</td>\n",
              "    </tr>\n",
              "    <tr>\n",
              "      <th>13</th>\n",
              "      <td>18</td>\n",
              "      <td>10001</td>\n",
              "      <td>000</td>\n",
              "    </tr>\n",
              "    <tr>\n",
              "      <th>14</th>\n",
              "      <td>19</td>\n",
              "      <td>10010</td>\n",
              "      <td>000</td>\n",
              "    </tr>\n",
              "    <tr>\n",
              "      <th>15</th>\n",
              "      <td>20</td>\n",
              "      <td>10011</td>\n",
              "      <td>000</td>\n",
              "    </tr>\n",
              "    <tr>\n",
              "      <th>16</th>\n",
              "      <td>21</td>\n",
              "      <td>10100</td>\n",
              "      <td>001</td>\n",
              "    </tr>\n",
              "    <tr>\n",
              "      <th>17</th>\n",
              "      <td>22</td>\n",
              "      <td>10101</td>\n",
              "      <td>001</td>\n",
              "    </tr>\n",
              "    <tr>\n",
              "      <th>18</th>\n",
              "      <td>24</td>\n",
              "      <td>10111</td>\n",
              "      <td>001</td>\n",
              "    </tr>\n",
              "    <tr>\n",
              "      <th>19</th>\n",
              "      <td>25</td>\n",
              "      <td>11000</td>\n",
              "      <td>010</td>\n",
              "    </tr>\n",
              "    <tr>\n",
              "      <th>20</th>\n",
              "      <td>26</td>\n",
              "      <td>11001</td>\n",
              "      <td>010</td>\n",
              "    </tr>\n",
              "    <tr>\n",
              "      <th>21</th>\n",
              "      <td>27</td>\n",
              "      <td>11010</td>\n",
              "      <td>010</td>\n",
              "    </tr>\n",
              "    <tr>\n",
              "      <th>22</th>\n",
              "      <td>29</td>\n",
              "      <td>11100</td>\n",
              "      <td>011</td>\n",
              "    </tr>\n",
              "    <tr>\n",
              "      <th>23</th>\n",
              "      <td>30</td>\n",
              "      <td>11101</td>\n",
              "      <td>011</td>\n",
              "    </tr>\n",
              "    <tr>\n",
              "      <th>24</th>\n",
              "      <td>31</td>\n",
              "      <td>11110</td>\n",
              "      <td>011</td>\n",
              "    </tr>\n",
              "    <tr>\n",
              "      <th>25</th>\n",
              "      <td>32</td>\n",
              "      <td>11111</td>\n",
              "      <td>011</td>\n",
              "    </tr>\n",
              "  </tbody>\n",
              "</table>\n",
              "</div>"
            ],
            "text/plain": [
              "    Num  input output\n",
              "0     1  00000    100\n",
              "1     3  00010    100\n",
              "2     4  00011    100\n",
              "3     5  00100    101\n",
              "4     7  00110    101\n",
              "5     8  00111    101\n",
              "6     9  01000    110\n",
              "7    10  01001    110\n",
              "8    11  01010    110\n",
              "9    12  01011    110\n",
              "10   14  01101    111\n",
              "11   15  01110    111\n",
              "12   17  10000    000\n",
              "13   18  10001    000\n",
              "14   19  10010    000\n",
              "15   20  10011    000\n",
              "16   21  10100    001\n",
              "17   22  10101    001\n",
              "18   24  10111    001\n",
              "19   25  11000    010\n",
              "20   26  11001    010\n",
              "21   27  11010    010\n",
              "22   29  11100    011\n",
              "23   30  11101    011\n",
              "24   31  11110    011\n",
              "25   32  11111    011"
            ]
          },
          "metadata": {
            "tags": []
          },
          "execution_count": 234
        }
      ]
    },
    {
      "cell_type": "markdown",
      "metadata": {
        "id": "lGnvq_MSqVgB",
        "colab_type": "text"
      },
      "source": [
        "#### Testing set:"
      ]
    },
    {
      "cell_type": "code",
      "metadata": {
        "id": "17jSKbZGdTrn",
        "colab_type": "code",
        "outputId": "d1572892-6f28-4326-9dc0-9df83b0ff22c",
        "colab": {
          "base_uri": "https://localhost:8080/",
          "height": 235
        }
      },
      "source": [
        "testing_data_url = \"https://raw.githubusercontent.com/DeltSystem32/CIS3187-Assignment/master/testing_data.csv?token=AIW66N6FBMAJSI6JR2GHI626ENAXE\"\n",
        "testing_df = pd.read_csv(testing_data_url, converters={'input': lambda x: str(x), 'output': lambda x: str(x)})\n",
        "testing_df"
      ],
      "execution_count": 235,
      "outputs": [
        {
          "output_type": "execute_result",
          "data": {
            "text/html": [
              "<div>\n",
              "<style scoped>\n",
              "    .dataframe tbody tr th:only-of-type {\n",
              "        vertical-align: middle;\n",
              "    }\n",
              "\n",
              "    .dataframe tbody tr th {\n",
              "        vertical-align: top;\n",
              "    }\n",
              "\n",
              "    .dataframe thead th {\n",
              "        text-align: right;\n",
              "    }\n",
              "</style>\n",
              "<table border=\"1\" class=\"dataframe\">\n",
              "  <thead>\n",
              "    <tr style=\"text-align: right;\">\n",
              "      <th></th>\n",
              "      <th>Num</th>\n",
              "      <th>input</th>\n",
              "      <th>output</th>\n",
              "    </tr>\n",
              "  </thead>\n",
              "  <tbody>\n",
              "    <tr>\n",
              "      <th>0</th>\n",
              "      <td>2</td>\n",
              "      <td>00001</td>\n",
              "      <td>100</td>\n",
              "    </tr>\n",
              "    <tr>\n",
              "      <th>1</th>\n",
              "      <td>6</td>\n",
              "      <td>00101</td>\n",
              "      <td>101</td>\n",
              "    </tr>\n",
              "    <tr>\n",
              "      <th>2</th>\n",
              "      <td>13</td>\n",
              "      <td>01100</td>\n",
              "      <td>111</td>\n",
              "    </tr>\n",
              "    <tr>\n",
              "      <th>3</th>\n",
              "      <td>16</td>\n",
              "      <td>01111</td>\n",
              "      <td>111</td>\n",
              "    </tr>\n",
              "    <tr>\n",
              "      <th>4</th>\n",
              "      <td>23</td>\n",
              "      <td>10110</td>\n",
              "      <td>001</td>\n",
              "    </tr>\n",
              "    <tr>\n",
              "      <th>5</th>\n",
              "      <td>28</td>\n",
              "      <td>11011</td>\n",
              "      <td>010</td>\n",
              "    </tr>\n",
              "  </tbody>\n",
              "</table>\n",
              "</div>"
            ],
            "text/plain": [
              "   Num  input output\n",
              "0    2  00001    100\n",
              "1    6  00101    101\n",
              "2   13  01100    111\n",
              "3   16  01111    111\n",
              "4   23  10110    001\n",
              "5   28  11011    010"
            ]
          },
          "metadata": {
            "tags": []
          },
          "execution_count": 235
        }
      ]
    },
    {
      "cell_type": "markdown",
      "metadata": {
        "id": "f7JpW4CyqpTa",
        "colab_type": "text"
      },
      "source": [
        "#### Size of data:"
      ]
    },
    {
      "cell_type": "code",
      "metadata": {
        "id": "8IfZRHKuqBOW",
        "colab_type": "code",
        "outputId": "55218abd-8935-40cb-97c6-e18ec9edf52f",
        "colab": {
          "base_uri": "https://localhost:8080/",
          "height": 51
        }
      },
      "source": [
        "print(\"Size of training set: \" + str(len(training_df)))\n",
        "print(\"Size of testing set: \"+ str(len(testing_df)))"
      ],
      "execution_count": 236,
      "outputs": [
        {
          "output_type": "stream",
          "text": [
            "Size of training set: 26\n",
            "Size of testing set: 6\n"
          ],
          "name": "stdout"
        }
      ]
    },
    {
      "cell_type": "markdown",
      "metadata": {
        "id": "RtxRNPSguh_-",
        "colab_type": "text"
      },
      "source": [
        "## MLP Parameters"
      ]
    },
    {
      "cell_type": "markdown",
      "metadata": {
        "id": "1f20hU83uoEQ",
        "colab_type": "text"
      },
      "source": [
        "The Neural Network to be implemented will consist of the following:\n",
        "*   **Number of input neurons**: 5\n",
        "*   **Number of output neurons**: 3\n",
        "*   **Number of hidden layers**: 1\n",
        "*   **Number of hidden neurons**: 4\n",
        "*   **Error threshold**: 0.2\n",
        "*   **Learning rate**: 0.2\n",
        "*   **Maximum number of epochs**: 999\n",
        "*   **Transformation function**: Sigmoid"
      ]
    },
    {
      "cell_type": "code",
      "metadata": {
        "id": "Cgz9DfPwveo6",
        "colab_type": "code",
        "colab": {}
      },
      "source": [
        "class parameters:\n",
        "  NUM_IN_NEURONS = 5\n",
        "  NUM_OUT_NEURONS = 3\n",
        "  NUM_HIDDEN_LAYERS = 1\n",
        "  NUM_HIDDEN_NEURONS = 4\n",
        "  ERROR_THRESHOLD = 0.2\n",
        "  LEARNING_RATE = 0.2\n",
        "  MAX_EPOCHS = 999"
      ],
      "execution_count": 0,
      "outputs": []
    },
    {
      "cell_type": "markdown",
      "metadata": {
        "id": "TYW0GXfD0zeo",
        "colab_type": "text"
      },
      "source": [
        "### Sigmoid function implementation"
      ]
    },
    {
      "cell_type": "markdown",
      "metadata": {
        "id": "WTx8XyNOytcL",
        "colab_type": "text"
      },
      "source": [
        "The method will be called *transform()* so as to remain generic so that it can be 'hotswapped' with other transformation functions if the need arises."
      ]
    },
    {
      "cell_type": "code",
      "metadata": {
        "id": "zGt1VupQy37w",
        "colab_type": "code",
        "colab": {}
      },
      "source": [
        " import math\n",
        "\n",
        " def transform(x):\n",
        "    #sigmoid\n",
        "    return 1 / (1 + math.exp(-x))\n",
        "    \n",
        "\n",
        "#add to MLP parameters\n",
        "parameters.transform = transform"
      ],
      "execution_count": 0,
      "outputs": []
    },
    {
      "cell_type": "markdown",
      "metadata": {
        "id": "wvTzzHBv0oNE",
        "colab_type": "text"
      },
      "source": [
        "## MLP Class"
      ]
    },
    {
      "cell_type": "markdown",
      "metadata": {
        "id": "R6wTEJZ1Fb4n",
        "colab_type": "text"
      },
      "source": [
        "### Initialisation"
      ]
    },
    {
      "cell_type": "markdown",
      "metadata": {
        "id": "Xzz35Iie08UX",
        "colab_type": "text"
      },
      "source": [
        "We will first begin by declaring the MLP's initialisation function. An array of 5-bit binary numbers is to be received:"
      ]
    },
    {
      "cell_type": "code",
      "metadata": {
        "id": "u4nuccLrD4Lo",
        "colab_type": "code",
        "colab": {}
      },
      "source": [
        "class MLP:\n",
        "  layers = None\n",
        "  inputs = None\n",
        "  outputs = None\n",
        "  wH = None #hidden layer weights\n",
        "  wO = None #output layer weights\n",
        "    \n",
        "  def __init__(self, input_df):\n",
        "    wH = self.generate_weights(parameters.NUM_IN_NEURONS,parameters.NUM_HIDDEN_NEURONS)\n",
        "    print('wh: ', wH)\n",
        "    wO = self.generate_weights(parameters.NUM_HIDDEN_NEURONS,parameters.NUM_OUT_NEURONS)\n",
        "    print(\"wO: \", wO)\n",
        "    inputs = np.empty(shape=(1,parameters.NUM_IN_NEURONS))\n",
        "\n",
        "    for index, row in input_df.iterrows():\n",
        "      input = np.array(list(row[\"input\"]),dtype=np.float64)\n",
        "      output = np.array(list(row[\"output\"]),dtype=np.float64)\n",
        "\n",
        "      self.feedforward(wH, wO, input)"
      ],
      "execution_count": 0,
      "outputs": []
    },
    {
      "cell_type": "markdown",
      "metadata": {
        "id": "6EUZKI9BE6Jt",
        "colab_type": "text"
      },
      "source": [
        "To initialise the weights, we will need to do so randomly. For this, a function is required to create a matrix of weights of any given size:"
      ]
    },
    {
      "cell_type": "code",
      "metadata": {
        "id": "s63gI84MECim",
        "colab_type": "code",
        "colab": {}
      },
      "source": [
        "def generate_weights(self, rows, columns):\n",
        "    return np.random.uniform(low=0,high=1, size=(rows,columns))\n",
        "\n",
        "#add to MLP\n",
        "MLP.generate_weights = generate_weights"
      ],
      "execution_count": 0,
      "outputs": []
    },
    {
      "cell_type": "markdown",
      "metadata": {
        "id": "9QNW69nYEKsB",
        "colab_type": "text"
      },
      "source": [
        "### Feedforward"
      ]
    },
    {
      "cell_type": "markdown",
      "metadata": {
        "id": "bEtD9oeBHPJ0",
        "colab_type": "text"
      },
      "source": [
        "Function for applying the transformation function to all cells of a given array:"
      ]
    },
    {
      "cell_type": "code",
      "metadata": {
        "id": "MxwIzP7tFkzP",
        "colab_type": "code",
        "colab": {}
      },
      "source": [
        "  def transform_array(self, net):\n",
        "    return [parameters.transform(j) for j in net]\n",
        "\n",
        "  # add to MLP\n",
        "  MLP.transform_array = transform_array"
      ],
      "execution_count": 0,
      "outputs": []
    },
    {
      "cell_type": "markdown",
      "metadata": {
        "id": "VyQA14YtG32G",
        "colab_type": "text"
      },
      "source": [
        "Loop through hidden layer and output layer, transforming input into MLP output. Matrix multiplication is performed using numpy's dot function:"
      ]
    },
    {
      "cell_type": "code",
      "metadata": {
        "id": "8A-L6yku0p9d",
        "colab_type": "code",
        "outputId": "9c2c106e-9213-4f40-da4a-448a9bfc6fd7",
        "colab": {
          "base_uri": "https://localhost:8080/",
          "height": 1000
        }
      },
      "source": [
        "  #feed-forward\n",
        "  def feedforward(self, wH, wO, inputs):\n",
        "    print('inputs: ', inputs)\n",
        "    netH = np.dot(inputs,wH)\n",
        "    print(netH)\n",
        "    outH = self.transform_array(netH)\n",
        "    print(\"outH: \", outH)\n",
        "\n",
        "    netO = np.dot(outH,wO)\n",
        "    print(netO)\n",
        "    outO = self.transform_array(netO)\n",
        "    print(\"outO: \", outO)\n",
        "\n",
        "#add to MLP\n",
        "MLP.feedforward = feedforward\n",
        "\n",
        "mlp = MLP(training_df)"
      ],
      "execution_count": 242,
      "outputs": [
        {
          "output_type": "stream",
          "text": [
            "wh:  [[0.01576605 0.5906287  0.76208551 0.97501824]\n",
            " [0.80866826 0.89854744 0.17784228 0.04529147]\n",
            " [0.65502128 0.17625196 0.42205184 0.27509772]\n",
            " [0.80442114 0.61966237 0.35965299 0.18806537]\n",
            " [0.80977049 0.09363837 0.81220825 0.64871731]]\n",
            "wO:  [[0.82306544 0.01777181 0.34408909]\n",
            " [0.42681764 0.76436428 0.38777749]\n",
            " [0.94746826 0.72532501 0.96864975]\n",
            " [0.67954432 0.33006014 0.79251024]]\n",
            "inputs:  [0. 0. 0. 0. 0.]\n",
            "[0. 0. 0. 0.]\n",
            "outH:  [0.5, 0.5, 0.5, 0.5]\n",
            "[1.43844783 0.91876062 1.24651329]\n",
            "outO:  [0.8082141741564391, 0.7147895064681612, 0.7766957108645218]\n",
            "inputs:  [0. 0. 0. 1. 0.]\n",
            "[0.80442114 0.61966237 0.35965299 0.18806537]\n",
            "outH:  [0.6909194099930194, 0.6501417553910367, 0.5889564290132646, 0.5468782564236322]\n",
            "[1.7758094  1.11691157 1.49374729]\n",
            "outO:  [0.8551786395143379, 0.7534153944488953, 0.8166400537935685]\n",
            "inputs:  [0. 0. 0. 1. 1.]\n",
            "[1.61419163 0.71330074 1.17186123 0.83678269]\n",
            "outH:  [0.833992526062239, 0.6711300921372539, 0.7634812776215959, 0.6977871803270931]\n",
            "[2.17043218 1.31189323 1.83976631]\n",
            "outO:  [0.8975627099089767, 0.7878297889666367, 0.8629210668656917]\n",
            "inputs:  [0. 0. 1. 0. 0.]\n",
            "[0.65502128 0.17625196 0.42205184 0.27509772]\n",
            "outH:  [0.658141101839991, 0.5439492753732956, 0.6039741324315338, 0.5683439566245132]\n",
            "[1.73232157 1.05313699 1.47284826]\n",
            "outO:  [0.849709133830433, 0.7413768314247269, 0.8134899211680491]\n",
            "inputs:  [0. 0. 1. 1. 0.]\n",
            "[1.45944241 0.79591432 0.78170482 0.46316309]\n",
            "outH:  [0.8114473783834882, 0.6890998378529304, 0.6860474261907047, 0.6137642803270374]\n",
            "[2.02908245 1.24133067 1.69738174]\n",
            "outO:  [0.8838168932863272, 0.7757955520916171, 0.8451924660296325]\n",
            "inputs:  [0. 0. 1. 1. 1.]\n",
            "[2.26921291 0.8895527  1.59391307 1.1118804 ]\n",
            "outH:  [0.9062949655696626, 0.7087978564301319, 0.8311659328512943, 0.7524795107521391]\n",
            "[2.34731401 1.4091152  1.98815846]\n",
            "outO:  [0.9127204940772496, 0.803626349661355, 0.8795481749635097]\n",
            "inputs:  [0. 1. 0. 0. 0.]\n",
            "[0.80866826 0.89854744 0.17784228 0.04529147]\n",
            "outH:  [0.6918256460322778, 0.7106509099312193, 0.5443437563807059, 0.5113209331393728]\n",
            "[1.73594979 1.11908397 1.4461296 ]\n",
            "outO:  [0.8501718830010118, 0.7538187619814057, 0.8094020614587152]\n",
            "inputs:  [0. 1. 0. 0. 1.]\n",
            "[1.61843875 0.99218581 0.99005053 0.69400879]\n",
            "outH:  [0.8345797022007245, 0.7295194453825784, 0.7290979022389564, 0.6668581073646879]\n",
            "[2.14224224 1.32138682 1.80479337]\n",
            "outO:  [0.8949416151819763, 0.789412345160949, 0.8587314279585484]\n",
            "inputs:  [0. 1. 0. 1. 0.]\n",
            "[1.6130894  1.51820981 0.53749526 0.23335685]\n",
            "outH:  [0.8338398668791756, 0.820274714528613, 0.6312295602419877, 0.5580759047299964]\n",
            "[2.01371978 1.28385274 1.6587205 ]\n",
            "outO:  [0.8822300580684478, 0.7831048834919184, 0.8400661703353062]\n",
            "inputs:  [0. 1. 0. 1. 1.]\n",
            "[2.42285989 1.61184818 1.34970351 0.88207416]\n",
            "outH:  [0.9185539565618291, 0.8336678240644224, 0.7940811518575558, 0.7072518535814548]\n",
            "[2.34482982 1.46295284 1.96903286]\n",
            "outO:  [0.9125223957847147, 0.8119838885114684, 0.877507194802561]\n",
            "inputs:  [0. 1. 1. 0. 1.]\n",
            "[2.27346003 1.16843777 1.41210237 0.96910651]\n",
            "outH:  [0.9066550281075751, 0.7628625195343122, 0.8040973301149646, 0.7249413694913099]\n",
            "[2.32632609 1.42172392 1.96120316]\n",
            "outO:  [0.9110340118963586, 0.8056085299883772, 0.8766631025161982]\n",
            "inputs:  [0. 1. 1. 1. 0.]\n",
            "[2.26811067 1.69446177 0.9595471  0.50845456]\n",
            "outH:  [0.9062013171935316, 0.8448100247093133, 0.7230311184241245, 0.6244441182806637]\n",
            "[2.2158293  1.39238411 1.83465457]\n",
            "outO:  [0.9016620085635757, 0.8009725803015603, 0.8623152854392334]\n",
            "inputs:  [1. 0. 0. 0. 0.]\n",
            "[0.01576605 0.5906287  0.76208551 0.97501824]\n",
            "outH:  [0.503941431953278, 0.6435093866652624, 0.6818063499960596, 0.7261186091998879]\n",
            "[1.82885759 1.23502555 1.65882719]\n",
            "outO:  [0.8616255768143996, 0.7746969524719884, 0.8400805042800875]\n",
            "inputs:  [1. 0. 0. 0. 1.]\n",
            "[0.82553655 0.68426708 1.57429376 1.62373556]\n",
            "outH:  [0.6954103298965926, 0.6646903985121855, 0.8283948566923259, 0.8353096646570125]\n",
            "[2.20857757 1.39698223 1.96145102]\n",
            "outO:  [0.9010171393383808, 0.8017045777712353, 0.876689900092394]\n",
            "inputs:  [1. 0. 0. 1. 0.]\n",
            "[0.82018719 1.21029107 1.1217385  1.16308362]\n",
            "outH:  [0.6942760741778656, 0.7703504467713586, 0.754311047737341, 0.7618925722219863]\n",
            "[2.13265935 1.39975795 1.87208826]\n",
            "outO:  [0.8940372051227032, 0.8021454755193123, 0.8666997217335012]\n",
            "inputs:  [1. 0. 0. 1. 1.]\n",
            "[1.62995768 1.30392944 1.93394675 1.81180093]\n",
            "outH:  [0.8361638418376364, 0.7864955593786646, 0.8736856219043, 0.8595793920601196]\n",
            "[2.43581943 1.53344819 2.12022096]\n",
            "outO:  [0.9195182492304452, 0.8225102649360526, 0.8928530699636412]\n",
            "inputs:  [1. 0. 1. 0. 0.]\n",
            "[0.67078733 0.76688066 1.18413735 1.25011596]\n",
            "outH:  [0.6616794330838083, 0.6828457322273915, 0.7656908950720435, 0.7773199338154647]\n",
            "[2.08974725 1.34563921 1.85018918]\n",
            "outO:  [0.8899026641988328, 0.7934157782600643, 0.8641493135570057]\n",
            "inputs:  [1. 0. 1. 0. 1.]\n",
            "[1.48055782 0.86051903 1.9963456  1.89883327]\n",
            "outH:  [0.8146568217230625, 0.7027690841582531, 0.8804128551863556, 0.869759418350275]\n",
            "[2.39567343 1.47730789 2.0949375 ]\n",
            "outO:  [0.9164967851902229, 0.8141656092768857, 0.8904101556360698]\n",
            "inputs:  [1. 0. 1. 1. 1.]\n",
            "[2.28497896 1.4801814  2.35599859 2.08689865]\n",
            "outH:  [0.9076253388063285, 0.8145999788404614, 0.9134098475282103, 0.8896232600739864]\n",
            "[2.56468596 1.59492946 2.21799728]\n",
            "outO:  [0.9285539566203799, 0.8313085134366147, 0.9018540708401107]\n",
            "inputs:  [1. 1. 0. 0. 0.]\n",
            "[0.82443431 1.48917615 0.93992779 1.02030972]\n",
            "outH:  [0.6951768104329354, 0.8159545843590673, 0.7190850715885791, 0.73503292397743]\n",
            "[2.10123755 1.40021655 1.83467427]\n",
            "outO:  [0.8910234039078466, 0.8022182490869791, 0.8623176246575149]\n",
            "inputs:  [1. 1. 0. 0. 1.]\n",
            "[1.63420481 1.58281452 1.75213604 1.66902703]\n",
            "outH:  [0.83674484131054, 0.8296027532319376, 0.8522220165953827, 0.8414460558972102]\n",
            "[2.42203805 1.54485493 2.10197531]\n",
            "outO:  [0.9184924515701742, 0.824169381123619, 0.8910950198912985]\n",
            "inputs:  [1. 1. 0. 1. 0.]\n",
            "[1.62885545 2.10883851 1.29958078 1.20837509]\n",
            "outH:  [0.8360127867653935, 0.8917592720878939, 0.7857644201788067, 0.770011313426274]\n",
            "[2.33645549 1.52057102 2.00483941]\n",
            "outO:  [0.9118515988300241, 0.8206225514427774, 0.8813042497289917]\n",
            "inputs:  [1. 1. 1. 0. 0.]\n",
            "[1.47945559 1.6654281  1.36197963 1.29540743]\n",
            "outH:  [0.8144903366965682, 0.8409653162570871, 0.7960812512592045, 0.7850610470322265]\n",
            "[2.31706317 1.49381382 1.99965748]\n",
            "outO:  [0.9102803789412488, 0.8166500159909001, 0.8807611113527514]\n",
            "inputs:  [1. 1. 1. 0. 1.]\n",
            "[2.28922608 1.75906648 2.17418788 1.94412475]\n",
            "outH:  [0.9079808084075435, 0.8530927043593848, 0.8979075080504328, 0.8748045909564033]\n",
            "[2.55665    1.60822295 2.20628592]\n",
            "outO:  [0.9280189989739435, 0.8331645206910951, 0.9008125700996664]\n",
            "inputs:  [1. 1. 1. 1. 0.]\n",
            "[2.28387673 2.28509047 1.72163262 1.48347281]\n",
            "outH:  [0.9075328843462908, 0.9076346876153337, 0.8483390081500205, 0.8150965546314765]\n",
            "[2.49202197 1.59424442 2.1319482 ]\n",
            "outO:  [0.9235806343701636, 0.8312124256946767, 0.8939698158814998]\n",
            "inputs:  [1. 1. 1. 1. 1.]\n",
            "[3.09364722 2.37872884 2.53384086 2.13219012]\n",
            "outH:  [0.9566299371701491, 0.9151908234916393, 0.9264804007608524, 0.8939927445948892]\n",
            "[2.6633071  1.683611   2.28998974]\n",
            "outO:  [0.934826444515572, 0.8433820950685103, 0.9080445934502627]\n"
          ],
          "name": "stdout"
        }
      ]
    },
    {
      "cell_type": "code",
      "metadata": {
        "id": "4e1JtTJBJr5P",
        "colab_type": "code",
        "colab": {}
      },
      "source": [
        ""
      ],
      "execution_count": 0,
      "outputs": []
    }
  ]
}