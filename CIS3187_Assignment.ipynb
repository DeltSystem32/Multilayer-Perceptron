{
  "nbformat": 4,
  "nbformat_minor": 0,
  "metadata": {
    "colab": {
      "name": "CIS3187_Assignment",
      "provenance": [],
      "collapsed_sections": [],
      "include_colab_link": true
    },
    "kernelspec": {
      "name": "python3",
      "display_name": "Python 3"
    }
  },
  "cells": [
    {
      "cell_type": "markdown",
      "metadata": {
        "id": "view-in-github",
        "colab_type": "text"
      },
      "source": [
        "<a href=\"https://colab.research.google.com/github/DeltSystem32/CIS3187-Assignment/blob/master/CIS3187_Assignment.ipynb\" target=\"_parent\"><img src=\"https://colab.research.google.com/assets/colab-badge.svg\" alt=\"Open In Colab\"/></a>"
      ]
    },
    {
      "cell_type": "markdown",
      "metadata": {
        "id": "x2t0xy0Sdj30",
        "colab_type": "text"
      },
      "source": [
        "# Business Intelligence Coursework: Neural Network\n",
        "## By Daniel Anthony Cilia 315499(M)\n",
        "---\n",
        "\n"
      ]
    },
    {
      "cell_type": "markdown",
      "metadata": {
        "id": "SRU9fhLHawWJ",
        "colab_type": "text"
      },
      "source": [
        "## Project Imports\n",
        "\n"
      ]
    },
    {
      "cell_type": "code",
      "metadata": {
        "id": "OCf0VH3RPV9T",
        "colab_type": "code",
        "colab": {}
      },
      "source": [
        "import pandas as pd"
      ],
      "execution_count": 0,
      "outputs": []
    },
    {
      "cell_type": "markdown",
      "metadata": {
        "id": "9JuBbdzpiaFQ",
        "colab_type": "text"
      },
      "source": [
        "## Read and parse data"
      ]
    },
    {
      "cell_type": "markdown",
      "metadata": {
        "id": "Bz7yE2K-qt9_",
        "colab_type": "text"
      },
      "source": [
        "Obtain testing and traning data from two CSV files in the project repository on Github."
      ]
    },
    {
      "cell_type": "markdown",
      "metadata": {
        "id": "1HRQHkktq9c7",
        "colab_type": "text"
      },
      "source": [
        "The data consists of 5-bit numbers being mapped to 3-bit via the Boolean function ¬ABC."
      ]
    },
    {
      "cell_type": "markdown",
      "metadata": {
        "id": "aMvfwpNuuRYg",
        "colab_type": "text"
      },
      "source": [
        "Converters are used to map values to string upon import in order to retain all leading zeros."
      ]
    },
    {
      "cell_type": "markdown",
      "metadata": {
        "id": "Wu3s5zk_qNb0",
        "colab_type": "text"
      },
      "source": [
        "#### Training set:"
      ]
    },
    {
      "cell_type": "code",
      "metadata": {
        "id": "O8o8kWlzdjaT",
        "colab_type": "code",
        "outputId": "9118eaf9-8d1c-4c5c-be28-bf21684ab962",
        "colab": {
          "base_uri": "https://localhost:8080/",
          "height": 855
        }
      },
      "source": [
        "training_data_url = \"https://raw.githubusercontent.com/DeltSystem32/CIS3187-Assignment/master/training_data.csv?token=AIW66N5TCWXKRMEIPQPTPES6ENAXA\"\n",
        "training_df = pd.read_csv(training_data_url, converters={'input': lambda x: str(x), 'output': lambda x: str(x)})\n",
        "training_df"
      ],
      "execution_count": 34,
      "outputs": [
        {
          "output_type": "execute_result",
          "data": {
            "text/html": [
              "<div>\n",
              "<style scoped>\n",
              "    .dataframe tbody tr th:only-of-type {\n",
              "        vertical-align: middle;\n",
              "    }\n",
              "\n",
              "    .dataframe tbody tr th {\n",
              "        vertical-align: top;\n",
              "    }\n",
              "\n",
              "    .dataframe thead th {\n",
              "        text-align: right;\n",
              "    }\n",
              "</style>\n",
              "<table border=\"1\" class=\"dataframe\">\n",
              "  <thead>\n",
              "    <tr style=\"text-align: right;\">\n",
              "      <th></th>\n",
              "      <th>Num</th>\n",
              "      <th>input</th>\n",
              "      <th>output</th>\n",
              "    </tr>\n",
              "  </thead>\n",
              "  <tbody>\n",
              "    <tr>\n",
              "      <th>0</th>\n",
              "      <td>1</td>\n",
              "      <td>00000</td>\n",
              "      <td>100</td>\n",
              "    </tr>\n",
              "    <tr>\n",
              "      <th>1</th>\n",
              "      <td>3</td>\n",
              "      <td>00010</td>\n",
              "      <td>100</td>\n",
              "    </tr>\n",
              "    <tr>\n",
              "      <th>2</th>\n",
              "      <td>4</td>\n",
              "      <td>00011</td>\n",
              "      <td>100</td>\n",
              "    </tr>\n",
              "    <tr>\n",
              "      <th>3</th>\n",
              "      <td>5</td>\n",
              "      <td>00100</td>\n",
              "      <td>101</td>\n",
              "    </tr>\n",
              "    <tr>\n",
              "      <th>4</th>\n",
              "      <td>7</td>\n",
              "      <td>00110</td>\n",
              "      <td>101</td>\n",
              "    </tr>\n",
              "    <tr>\n",
              "      <th>5</th>\n",
              "      <td>8</td>\n",
              "      <td>00111</td>\n",
              "      <td>101</td>\n",
              "    </tr>\n",
              "    <tr>\n",
              "      <th>6</th>\n",
              "      <td>9</td>\n",
              "      <td>01000</td>\n",
              "      <td>110</td>\n",
              "    </tr>\n",
              "    <tr>\n",
              "      <th>7</th>\n",
              "      <td>10</td>\n",
              "      <td>01001</td>\n",
              "      <td>110</td>\n",
              "    </tr>\n",
              "    <tr>\n",
              "      <th>8</th>\n",
              "      <td>11</td>\n",
              "      <td>01010</td>\n",
              "      <td>110</td>\n",
              "    </tr>\n",
              "    <tr>\n",
              "      <th>9</th>\n",
              "      <td>12</td>\n",
              "      <td>01011</td>\n",
              "      <td>110</td>\n",
              "    </tr>\n",
              "    <tr>\n",
              "      <th>10</th>\n",
              "      <td>14</td>\n",
              "      <td>01101</td>\n",
              "      <td>111</td>\n",
              "    </tr>\n",
              "    <tr>\n",
              "      <th>11</th>\n",
              "      <td>15</td>\n",
              "      <td>01110</td>\n",
              "      <td>111</td>\n",
              "    </tr>\n",
              "    <tr>\n",
              "      <th>12</th>\n",
              "      <td>17</td>\n",
              "      <td>10000</td>\n",
              "      <td>000</td>\n",
              "    </tr>\n",
              "    <tr>\n",
              "      <th>13</th>\n",
              "      <td>18</td>\n",
              "      <td>10001</td>\n",
              "      <td>000</td>\n",
              "    </tr>\n",
              "    <tr>\n",
              "      <th>14</th>\n",
              "      <td>19</td>\n",
              "      <td>10010</td>\n",
              "      <td>000</td>\n",
              "    </tr>\n",
              "    <tr>\n",
              "      <th>15</th>\n",
              "      <td>20</td>\n",
              "      <td>10011</td>\n",
              "      <td>000</td>\n",
              "    </tr>\n",
              "    <tr>\n",
              "      <th>16</th>\n",
              "      <td>21</td>\n",
              "      <td>10100</td>\n",
              "      <td>001</td>\n",
              "    </tr>\n",
              "    <tr>\n",
              "      <th>17</th>\n",
              "      <td>22</td>\n",
              "      <td>10101</td>\n",
              "      <td>001</td>\n",
              "    </tr>\n",
              "    <tr>\n",
              "      <th>18</th>\n",
              "      <td>24</td>\n",
              "      <td>10111</td>\n",
              "      <td>001</td>\n",
              "    </tr>\n",
              "    <tr>\n",
              "      <th>19</th>\n",
              "      <td>25</td>\n",
              "      <td>11000</td>\n",
              "      <td>010</td>\n",
              "    </tr>\n",
              "    <tr>\n",
              "      <th>20</th>\n",
              "      <td>26</td>\n",
              "      <td>11001</td>\n",
              "      <td>010</td>\n",
              "    </tr>\n",
              "    <tr>\n",
              "      <th>21</th>\n",
              "      <td>27</td>\n",
              "      <td>11010</td>\n",
              "      <td>010</td>\n",
              "    </tr>\n",
              "    <tr>\n",
              "      <th>22</th>\n",
              "      <td>29</td>\n",
              "      <td>11100</td>\n",
              "      <td>011</td>\n",
              "    </tr>\n",
              "    <tr>\n",
              "      <th>23</th>\n",
              "      <td>30</td>\n",
              "      <td>11101</td>\n",
              "      <td>011</td>\n",
              "    </tr>\n",
              "    <tr>\n",
              "      <th>24</th>\n",
              "      <td>31</td>\n",
              "      <td>11110</td>\n",
              "      <td>011</td>\n",
              "    </tr>\n",
              "    <tr>\n",
              "      <th>25</th>\n",
              "      <td>32</td>\n",
              "      <td>11111</td>\n",
              "      <td>011</td>\n",
              "    </tr>\n",
              "  </tbody>\n",
              "</table>\n",
              "</div>"
            ],
            "text/plain": [
              "    Num  input output\n",
              "0     1  00000    100\n",
              "1     3  00010    100\n",
              "2     4  00011    100\n",
              "3     5  00100    101\n",
              "4     7  00110    101\n",
              "5     8  00111    101\n",
              "6     9  01000    110\n",
              "7    10  01001    110\n",
              "8    11  01010    110\n",
              "9    12  01011    110\n",
              "10   14  01101    111\n",
              "11   15  01110    111\n",
              "12   17  10000    000\n",
              "13   18  10001    000\n",
              "14   19  10010    000\n",
              "15   20  10011    000\n",
              "16   21  10100    001\n",
              "17   22  10101    001\n",
              "18   24  10111    001\n",
              "19   25  11000    010\n",
              "20   26  11001    010\n",
              "21   27  11010    010\n",
              "22   29  11100    011\n",
              "23   30  11101    011\n",
              "24   31  11110    011\n",
              "25   32  11111    011"
            ]
          },
          "metadata": {
            "tags": []
          },
          "execution_count": 34
        }
      ]
    },
    {
      "cell_type": "markdown",
      "metadata": {
        "id": "lGnvq_MSqVgB",
        "colab_type": "text"
      },
      "source": [
        "#### Testing set:"
      ]
    },
    {
      "cell_type": "code",
      "metadata": {
        "id": "17jSKbZGdTrn",
        "colab_type": "code",
        "outputId": "5f365fe1-8639-4b63-872c-7f34e1d9d3c6",
        "colab": {
          "base_uri": "https://localhost:8080/",
          "height": 235
        }
      },
      "source": [
        "testing_data_url = \"https://raw.githubusercontent.com/DeltSystem32/CIS3187-Assignment/master/testing_data.csv?token=AIW66N6FBMAJSI6JR2GHI626ENAXE\"\n",
        "testing_df = pd.read_csv(testing_data_url, converters={'input': lambda x: str(x), 'output': lambda x: str(x)})\n",
        "testing_df"
      ],
      "execution_count": 35,
      "outputs": [
        {
          "output_type": "execute_result",
          "data": {
            "text/html": [
              "<div>\n",
              "<style scoped>\n",
              "    .dataframe tbody tr th:only-of-type {\n",
              "        vertical-align: middle;\n",
              "    }\n",
              "\n",
              "    .dataframe tbody tr th {\n",
              "        vertical-align: top;\n",
              "    }\n",
              "\n",
              "    .dataframe thead th {\n",
              "        text-align: right;\n",
              "    }\n",
              "</style>\n",
              "<table border=\"1\" class=\"dataframe\">\n",
              "  <thead>\n",
              "    <tr style=\"text-align: right;\">\n",
              "      <th></th>\n",
              "      <th>Num</th>\n",
              "      <th>input</th>\n",
              "      <th>output</th>\n",
              "    </tr>\n",
              "  </thead>\n",
              "  <tbody>\n",
              "    <tr>\n",
              "      <th>0</th>\n",
              "      <td>2</td>\n",
              "      <td>00001</td>\n",
              "      <td>100</td>\n",
              "    </tr>\n",
              "    <tr>\n",
              "      <th>1</th>\n",
              "      <td>6</td>\n",
              "      <td>00101</td>\n",
              "      <td>101</td>\n",
              "    </tr>\n",
              "    <tr>\n",
              "      <th>2</th>\n",
              "      <td>13</td>\n",
              "      <td>01100</td>\n",
              "      <td>111</td>\n",
              "    </tr>\n",
              "    <tr>\n",
              "      <th>3</th>\n",
              "      <td>16</td>\n",
              "      <td>01111</td>\n",
              "      <td>111</td>\n",
              "    </tr>\n",
              "    <tr>\n",
              "      <th>4</th>\n",
              "      <td>23</td>\n",
              "      <td>10110</td>\n",
              "      <td>001</td>\n",
              "    </tr>\n",
              "    <tr>\n",
              "      <th>5</th>\n",
              "      <td>28</td>\n",
              "      <td>11011</td>\n",
              "      <td>010</td>\n",
              "    </tr>\n",
              "  </tbody>\n",
              "</table>\n",
              "</div>"
            ],
            "text/plain": [
              "   Num  input output\n",
              "0    2  00001    100\n",
              "1    6  00101    101\n",
              "2   13  01100    111\n",
              "3   16  01111    111\n",
              "4   23  10110    001\n",
              "5   28  11011    010"
            ]
          },
          "metadata": {
            "tags": []
          },
          "execution_count": 35
        }
      ]
    },
    {
      "cell_type": "markdown",
      "metadata": {
        "id": "f7JpW4CyqpTa",
        "colab_type": "text"
      },
      "source": [
        "#### Size of data:"
      ]
    },
    {
      "cell_type": "code",
      "metadata": {
        "id": "8IfZRHKuqBOW",
        "colab_type": "code",
        "outputId": "86c1de04-9570-46d8-f2f6-19a2c65bfba5",
        "colab": {
          "base_uri": "https://localhost:8080/",
          "height": 51
        }
      },
      "source": [
        "print(\"Size of training set: \" + str(len(training_df)))\n",
        "print(\"Size of testing set: \"+ str(len(testing_df)))"
      ],
      "execution_count": 36,
      "outputs": [
        {
          "output_type": "stream",
          "text": [
            "Size of training set: 26\n",
            "Size of testing set: 6\n"
          ],
          "name": "stdout"
        }
      ]
    },
    {
      "cell_type": "markdown",
      "metadata": {
        "id": "RtxRNPSguh_-",
        "colab_type": "text"
      },
      "source": [
        "## MLP Parameters"
      ]
    },
    {
      "cell_type": "markdown",
      "metadata": {
        "id": "1f20hU83uoEQ",
        "colab_type": "text"
      },
      "source": [
        "The Neural Network to be implemented will consist of the following:\n",
        "*   **Number of input neurons**: 5\n",
        "*   **Number of output neurons**: 3\n",
        "*   **Number of hidden layers**: 1\n",
        "*   **Number of hidden neurons**: 4\n",
        "*   **Error threshold**: 0.2\n",
        "*   **Learning rate**: 0.2\n",
        "*   **Maximum number of epochs**: 999\n",
        "*   **Transformation function**: Sigmoid"
      ]
    },
    {
      "cell_type": "code",
      "metadata": {
        "id": "Cgz9DfPwveo6",
        "colab_type": "code",
        "colab": {}
      },
      "source": [
        "class parameters:\n",
        "  NUM_IN_NEURONS = 5\n",
        "  NUM_OUT_NEURONS = 3\n",
        "  NUM_HIDDEN_LAYERS = 1\n",
        "  NUM_HIDDEN_NEURONS = 4\n",
        "  ERROR_THRESHOLD = 0.2\n",
        "  LEARNING_RATE = 0.2\n",
        "  MAX_EPOCHS = 999"
      ],
      "execution_count": 0,
      "outputs": []
    },
    {
      "cell_type": "markdown",
      "metadata": {
        "id": "TYW0GXfD0zeo",
        "colab_type": "text"
      },
      "source": [
        "### Sigmoid function implementation"
      ]
    },
    {
      "cell_type": "markdown",
      "metadata": {
        "id": "WTx8XyNOytcL",
        "colab_type": "text"
      },
      "source": [
        "The method will be called *transform()* so as to remain generic so that it can be 'hotswapped' with other transformation functions if the need arises."
      ]
    },
    {
      "cell_type": "code",
      "metadata": {
        "id": "zGt1VupQy37w",
        "colab_type": "code",
        "colab": {}
      },
      "source": [
        " import math\n",
        "\n",
        " def transform(x):\n",
        "    #sigmoid\n",
        "    return 1 / (1 + math.exp(-x))\n",
        "    \n",
        "\n",
        "#add to MLP parameters\n",
        "parameters.transform = transform"
      ],
      "execution_count": 0,
      "outputs": []
    },
    {
      "cell_type": "markdown",
      "metadata": {
        "id": "wvTzzHBv0oNE",
        "colab_type": "text"
      },
      "source": [
        "## MLP Class"
      ]
    },
    {
      "cell_type": "markdown",
      "metadata": {
        "id": "R6wTEJZ1Fb4n",
        "colab_type": "text"
      },
      "source": [
        "### Initialisation"
      ]
    },
    {
      "cell_type": "markdown",
      "metadata": {
        "id": "Xzz35Iie08UX",
        "colab_type": "text"
      },
      "source": [
        "We will first begin by declaring the MLP's initialisation function. An input of length 5 binary numbers is received:"
      ]
    },
    {
      "cell_type": "code",
      "metadata": {
        "id": "u4nuccLrD4Lo",
        "colab_type": "code",
        "colab": {}
      },
      "source": [
        "class MLP:\n",
        "  layers = None\n",
        "  inputs = None\n",
        "  wH = None #hidden layer weights\n",
        "  wO = None #output layer weights\n",
        "  \n",
        "  def __init__(self, input):\n",
        "      input = str(input)\n",
        "      if len(input) != 5:\n",
        "        raise Exception('Input is not 5 bit')\n",
        "\n",
        "      inputs = np.empty(shape=(1,parameters.NUM_IN_NEURONS))\n",
        "      input = np.array(list(input))\n",
        "      inputs[0, :] = input\n",
        "\n",
        "      wH = self.generate_weights(parameters.NUM_IN_NEURONS,parameters.NUM_HIDDEN_NEURONS)\n",
        "      wO = self.generate_weights(parameters.NUM_HIDDEN_NEURONS,parameters.NUM_OUT_NEURONS)\n",
        "\n",
        "      self.feedforward(wH, wO, inputs)"
      ],
      "execution_count": 0,
      "outputs": []
    },
    {
      "cell_type": "markdown",
      "metadata": {
        "id": "6EUZKI9BE6Jt",
        "colab_type": "text"
      },
      "source": [
        "To initialise the weights, we will need to do so randomly. For this, a function is required to create a matrix of weights of any given size:"
      ]
    },
    {
      "cell_type": "code",
      "metadata": {
        "id": "s63gI84MECim",
        "colab_type": "code",
        "colab": {}
      },
      "source": [
        "def generate_weights(self, rows, columns):\n",
        "    return np.random.uniform(low=0,high=1, size=(rows,columns))\n",
        "\n",
        "#add to MLP\n",
        "MLP.generate_weights = generate_weights"
      ],
      "execution_count": 0,
      "outputs": []
    },
    {
      "cell_type": "markdown",
      "metadata": {
        "id": "9QNW69nYEKsB",
        "colab_type": "text"
      },
      "source": [
        "### Feedforward"
      ]
    },
    {
      "cell_type": "markdown",
      "metadata": {
        "id": "bEtD9oeBHPJ0",
        "colab_type": "text"
      },
      "source": [
        "Function for applying the transformation function to all cells of a given matrix:"
      ]
    },
    {
      "cell_type": "code",
      "metadata": {
        "id": "MxwIzP7tFkzP",
        "colab_type": "code",
        "colab": {}
      },
      "source": [
        "  def transform_matrix(self, net):\n",
        "    return [[parameters.transform(j) for j in i] for i in net]\n",
        "\n",
        "  # add to MLP\n",
        "  MLP.transform_matrix = transform_matrix"
      ],
      "execution_count": 0,
      "outputs": []
    },
    {
      "cell_type": "markdown",
      "metadata": {
        "id": "VyQA14YtG32G",
        "colab_type": "text"
      },
      "source": [
        "Loop through hidden layer and output layer, transforming input into MLP output. Matrix multiplication is performed using numpy's dot function:"
      ]
    },
    {
      "cell_type": "code",
      "metadata": {
        "id": "8A-L6yku0p9d",
        "colab_type": "code",
        "outputId": "fcb2edf0-ea2d-4428-9bbf-e097461196e7",
        "colab": {
          "base_uri": "https://localhost:8080/",
          "height": 255
        }
      },
      "source": [
        "  #feed-forward\n",
        "  def feedforward(self, wH, wO, inputs):\n",
        "    print('wh: ', wH)\n",
        "    print('inputs: ', inputs)\n",
        "    netH = np.dot(inputs,wH)\n",
        "    print(netH)\n",
        "    outH = self.transform_matrix(netH)\n",
        "    print(\"outH: \", outH)\n",
        "\n",
        "    print(\"wO: \", wO)\n",
        "    netO = np.dot(outH,wO)\n",
        "    print(netO)\n",
        "    outO = self.transform_matrix(netO)\n",
        "    print(\"outO: \", outO)\n",
        "\n",
        "#add to MLP\n",
        "MLP.feedforward = feedforward\n",
        "\n",
        "mlp = MLP(10001)"
      ],
      "execution_count": 54,
      "outputs": [
        {
          "output_type": "stream",
          "text": [
            "wh:  [[0.10883807 0.54705658 0.56295899 0.21054472]\n",
            " [0.46802209 0.26699963 0.07455884 0.16922581]\n",
            " [0.33410757 0.65874636 0.10513612 0.44399698]\n",
            " [0.87391375 0.23976071 0.40867922 0.97993524]\n",
            " [0.20082056 0.05612746 0.57108571 0.32908873]]\n",
            "inputs:  [[1. 0. 0. 0. 1.]]\n",
            "[[0.30965862 0.60318403 1.1340447  0.53963345]]\n",
            "outH:  [[0.5768019327326621, 0.6463844247752454, 0.7565845623858458, 0.6317271448567292]]\n",
            "wO:  [[0.67405297 0.48360534 0.73766744]\n",
            " [0.2746107  0.40029078 0.06281182]\n",
            " [0.27397135 0.81121101 0.33978298]\n",
            " [0.89579376 0.88714316 0.75385748]]\n",
            "[[1.33947886 1.71186836 1.19939537]]\n",
            "outO:  [[0.7924042273560835, 0.8470784622231585, 0.7684172059989026]]\n"
          ],
          "name": "stdout"
        }
      ]
    }
  ]
}